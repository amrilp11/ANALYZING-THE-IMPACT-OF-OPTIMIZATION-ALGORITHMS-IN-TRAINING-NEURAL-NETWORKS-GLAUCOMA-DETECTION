{
  "nbformat": 4,
  "nbformat_minor": 0,
  "metadata": {
    "accelerator": "GPU",
    "colab": {
      "name": "MDI_project.ipynb",
      "provenance": [],
      "collapsed_sections": []
    },
    "kernelspec": {
      "display_name": "Python 3",
      "name": "python3"
    }
  },
  "cells": [
    {
      "cell_type": "code",
      "metadata": {
        "id": "KwO0eu4S7WOe",
        "colab": {
          "base_uri": "https://localhost:8080/",
          "height": 34
        },
        "outputId": "6dfe5919-171a-4856-a96c-d9b761182a2a"
      },
      "source": [
        "from google.colab import drive \n",
        "drive.mount('/content/drive')"
      ],
      "execution_count": null,
      "outputs": [
        {
          "output_type": "stream",
          "text": [
            "Mounted at /content/drive\n"
          ],
          "name": "stdout"
        }
      ]
    },
    {
      "cell_type": "code",
      "metadata": {
        "id": "Pu1HnPCO7iOU",
        "colab": {
          "base_uri": "https://localhost:8080/",
          "height": 34
        },
        "outputId": "b48d8a2b-c65f-4d93-d96a-5a557a062025"
      },
      "source": [
        "import os\n",
        "print(os.listdir((\"/content/drive/My Drive/Colab_Project/glaucoma\")))"
      ],
      "execution_count": null,
      "outputs": [
        {
          "output_type": "stream",
          "text": [
            "['Gmodel.h5', 'train', 'validation']\n"
          ],
          "name": "stdout"
        }
      ]
    },
    {
      "cell_type": "code",
      "metadata": {
        "id": "PDyDwTfZ7zKK"
      },
      "source": [
        "import keras  ## import necessary packages"
      ],
      "execution_count": null,
      "outputs": []
    },
    {
      "cell_type": "code",
      "metadata": {
        "id": "pYxY11n7vjPW"
      },
      "source": [
        "import tensorflow as tf ## import necessary packages"
      ],
      "execution_count": null,
      "outputs": []
    },
    {
      "cell_type": "code",
      "metadata": {
        "id": "EmHeJz4j75CX",
        "colab": {
          "base_uri": "https://localhost:8080/",
          "height": 34
        },
        "outputId": "a4b6db8a-6bd3-4f4a-e3f8-4e0df85c7c0e"
      },
      "source": [
        "print(keras.__version__) ## import necessary packages"
      ],
      "execution_count": null,
      "outputs": [
        {
          "output_type": "stream",
          "text": [
            "2.4.3\n"
          ],
          "name": "stdout"
        }
      ]
    },
    {
      "cell_type": "code",
      "metadata": {
        "id": "wxi4aYHF8BY_"
      },
      "source": [
        "from keras.layers import Input, Lambda, Dense, Flatten\n",
        "from keras.models import Model\n",
        "from keras.applications.vgg16 import VGG16\n",
        "from keras.applications.vgg16 import preprocess_input\n",
        "from keras.preprocessing import image\n",
        "from keras.preprocessing.image import ImageDataGenerator\n",
        "from keras.models import Sequential\n",
        "import numpy as np\n",
        "from glob import glob\n",
        "import matplotlib.pyplot as plt\n",
        "from sklearn.model_selection import cross_val_score ## import necessary packages"
      ],
      "execution_count": null,
      "outputs": []
    },
    {
      "cell_type": "code",
      "metadata": {
        "id": "nwrMPSbgRwFB"
      },
      "source": [
        "from sklearn.model_selection import KFold ## import necessary packages"
      ],
      "execution_count": null,
      "outputs": []
    },
    {
      "cell_type": "code",
      "metadata": {
        "id": "qSl8SVPl7LWw"
      },
      "source": [
        "from tensorflow.keras import layers, initializers ## import necessary packages"
      ],
      "execution_count": null,
      "outputs": []
    },
    {
      "cell_type": "code",
      "metadata": {
        "id": "p6TGZiIr8MR8"
      },
      "source": [
        "train_path = '/content/drive/My Drive/Colab_Project/glaucoma/train'\n",
        "valid_path = '/content/drive/My Drive/Colab_Project/glaucoma/validation' ##path to training data and test data"
      ],
      "execution_count": null,
      "outputs": []
    },
    {
      "cell_type": "code",
      "metadata": {
        "id": "mq9hQZ1z_5uq",
        "colab": {
          "base_uri": "https://localhost:8080/",
          "height": 51
        },
        "outputId": "327a89fd-f9d0-4fb2-ee11-e21decab125e"
      },
      "source": [
        "vgg_model = VGG16() ##loading pre-trained VGG-16 model"
      ],
      "execution_count": null,
      "outputs": [
        {
          "output_type": "stream",
          "text": [
            "Downloading data from https://storage.googleapis.com/tensorflow/keras-applications/vgg16/vgg16_weights_tf_dim_ordering_tf_kernels.h5\n",
            "553467904/553467096 [==============================] - 6s 0us/step\n"
          ],
          "name": "stdout"
        }
      ]
    },
    {
      "cell_type": "markdown",
      "metadata": {
        "id": "xApd0RqHp8em"
      },
      "source": [
        "## Optimizer 'SGD'"
      ]
    },
    {
      "cell_type": "markdown",
      "metadata": {
        "id": "srFEY0rOm8Lf"
      },
      "source": [
        "Model 1 : Optimizer 'SGD', Learning rate '0.1'"
      ]
    },
    {
      "cell_type": "code",
      "metadata": {
        "id": "e3qEeVZWXNp_"
      },
      "source": [
        "model1 = Sequential()\n",
        "for layer in vgg_model.layers[:-1]:\n",
        "    model1.add(layer)     ##adding all the layers of pre-trained to the sequential model"
      ],
      "execution_count": null,
      "outputs": []
    },
    {
      "cell_type": "code",
      "metadata": {
        "id": "sTmpWXyFcrxH"
      },
      "source": [
        "for layer in model1.layers:\n",
        "    layer.trainable = False ##freezing all the layers to retain the weight"
      ],
      "execution_count": null,
      "outputs": []
    },
    {
      "cell_type": "code",
      "metadata": {
        "id": "2Ubs5NlUc0Rj"
      },
      "source": [
        "model1.add(Dense(2, activation='softmax', kernel_initializer=initializers.RandomNormal(stddev=0.1, seed=0), bias_initializer=initializers.Zeros())) ##adding fully connected dense layer with softmax activation"
      ],
      "execution_count": null,
      "outputs": []
    },
    {
      "cell_type": "code",
      "metadata": {
        "id": "b1JgADxJc5Dg",
        "colab": {
          "base_uri": "https://localhost:8080/",
          "height": 901
        },
        "outputId": "3155cee5-efe1-4f64-dc2b-58b68d2c37f9"
      },
      "source": [
        "model1.summary()"
      ],
      "execution_count": null,
      "outputs": [
        {
          "output_type": "stream",
          "text": [
            "Model: \"sequential\"\n",
            "_________________________________________________________________\n",
            "Layer (type)                 Output Shape              Param #   \n",
            "=================================================================\n",
            "block1_conv1 (Conv2D)        (None, 224, 224, 64)      1792      \n",
            "_________________________________________________________________\n",
            "block1_conv2 (Conv2D)        (None, 224, 224, 64)      36928     \n",
            "_________________________________________________________________\n",
            "block1_pool (MaxPooling2D)   (None, 112, 112, 64)      0         \n",
            "_________________________________________________________________\n",
            "block2_conv1 (Conv2D)        (None, 112, 112, 128)     73856     \n",
            "_________________________________________________________________\n",
            "block2_conv2 (Conv2D)        (None, 112, 112, 128)     147584    \n",
            "_________________________________________________________________\n",
            "block2_pool (MaxPooling2D)   (None, 56, 56, 128)       0         \n",
            "_________________________________________________________________\n",
            "block3_conv1 (Conv2D)        (None, 56, 56, 256)       295168    \n",
            "_________________________________________________________________\n",
            "block3_conv2 (Conv2D)        (None, 56, 56, 256)       590080    \n",
            "_________________________________________________________________\n",
            "block3_conv3 (Conv2D)        (None, 56, 56, 256)       590080    \n",
            "_________________________________________________________________\n",
            "block3_pool (MaxPooling2D)   (None, 28, 28, 256)       0         \n",
            "_________________________________________________________________\n",
            "block4_conv1 (Conv2D)        (None, 28, 28, 512)       1180160   \n",
            "_________________________________________________________________\n",
            "block4_conv2 (Conv2D)        (None, 28, 28, 512)       2359808   \n",
            "_________________________________________________________________\n",
            "block4_conv3 (Conv2D)        (None, 28, 28, 512)       2359808   \n",
            "_________________________________________________________________\n",
            "block4_pool (MaxPooling2D)   (None, 14, 14, 512)       0         \n",
            "_________________________________________________________________\n",
            "block5_conv1 (Conv2D)        (None, 14, 14, 512)       2359808   \n",
            "_________________________________________________________________\n",
            "block5_conv2 (Conv2D)        (None, 14, 14, 512)       2359808   \n",
            "_________________________________________________________________\n",
            "block5_conv3 (Conv2D)        (None, 14, 14, 512)       2359808   \n",
            "_________________________________________________________________\n",
            "block5_pool (MaxPooling2D)   (None, 7, 7, 512)         0         \n",
            "_________________________________________________________________\n",
            "flatten (Flatten)            (None, 25088)             0         \n",
            "_________________________________________________________________\n",
            "fc1 (Dense)                  (None, 4096)              102764544 \n",
            "_________________________________________________________________\n",
            "fc2 (Dense)                  (None, 4096)              16781312  \n",
            "_________________________________________________________________\n",
            "dense (Dense)                (None, 2)                 8194      \n",
            "=================================================================\n",
            "Total params: 134,268,738\n",
            "Trainable params: 8,194\n",
            "Non-trainable params: 134,260,544\n",
            "_________________________________________________________________\n"
          ],
          "name": "stdout"
        }
      ]
    },
    {
      "cell_type": "code",
      "metadata": {
        "id": "0O_uSUuac66J"
      },
      "source": [
        "opt = keras.optimizers.SGD(learning_rate=0.1)\n",
        "model1.compile(\n",
        "  loss='binary_crossentropy',\n",
        "  optimizer= opt,\n",
        "  metrics=['accuracy'] \n",
        ") ## SGD optimizer with Learning rate 0.1"
      ],
      "execution_count": null,
      "outputs": []
    },
    {
      "cell_type": "markdown",
      "metadata": {
        "id": "qxxjvN4i3-oo"
      },
      "source": [
        ""
      ]
    },
    {
      "cell_type": "code",
      "metadata": {
        "id": "pNRS2xXGdYuI",
        "colab": {
          "base_uri": "https://localhost:8080/",
          "height": 51
        },
        "outputId": "6faac89b-ed60-485b-aadc-fadbebf1eab7"
      },
      "source": [
        "from keras.preprocessing.image import ImageDataGenerator\n",
        "\n",
        "train_datagen = ImageDataGenerator()\n",
        "\n",
        "val_datagen = ImageDataGenerator()\n",
        "\n",
        "training_set = train_datagen.flow_from_directory('/content/drive/My Drive/Colab_Project/glaucoma/train',\n",
        "                                                 target_size = (224, 224),\n",
        "                                                 batch_size = 32, classes=['class1', 'class0'],\n",
        "                                                 shuffle=True, seed=42, color_mode = 'rgb')\n",
        "\n",
        "val_set = val_datagen.flow_from_directory('/content/drive/My Drive/Colab_Project/glaucoma/validation',\n",
        "                                            target_size = (224, 224),\n",
        "                                            batch_size = 32, classes = ['class1', 'class0'],\n",
        "                                           shuffle = True, seed=42, color_mode = 'rgb') ##load the images into training_set and val_set with ImageDataGenerator"
      ],
      "execution_count": null,
      "outputs": [
        {
          "output_type": "stream",
          "text": [
            "Found 455 images belonging to 2 classes.\n",
            "Found 64 images belonging to 2 classes.\n"
          ],
          "name": "stdout"
        }
      ]
    },
    {
      "cell_type": "code",
      "metadata": {
        "id": "3L9evhCi66L2",
        "colab": {
          "base_uri": "https://localhost:8080/",
          "height": 1000
        },
        "outputId": "01e4fa8c-28eb-4bd3-8282-3ecb6bdf52e2"
      },
      "source": [
        "history1 = model1.fit_generator(training_set,\n",
        "                        epochs = 25,\n",
        "                        validation_data=val_set,\n",
        "                        shuffle = True) ##model training and vaildation"
      ],
      "execution_count": null,
      "outputs": [
        {
          "output_type": "stream",
          "text": [
            "WARNING:tensorflow:From <ipython-input-18-1dedaf82fc62>:4: Model.fit_generator (from tensorflow.python.keras.engine.training) is deprecated and will be removed in a future version.\n",
            "Instructions for updating:\n",
            "Please use Model.fit, which supports generators.\n",
            "Epoch 1/25\n",
            "15/15 [==============================] - 140s 9s/step - loss: 5.5340 - accuracy: 0.5853 - val_loss: 4.5703 - val_accuracy: 0.6562\n",
            "Epoch 2/25\n",
            "15/15 [==============================] - 4s 267ms/step - loss: 4.2878 - accuracy: 0.6803 - val_loss: 5.1078 - val_accuracy: 0.6562\n",
            "Epoch 3/25\n",
            "15/15 [==============================] - 4s 268ms/step - loss: 4.4495 - accuracy: 0.6631 - val_loss: 1.9925 - val_accuracy: 0.7969\n",
            "Epoch 4/25\n",
            "15/15 [==============================] - 4s 271ms/step - loss: 3.8933 - accuracy: 0.7106 - val_loss: 2.9948 - val_accuracy: 0.7969\n",
            "Epoch 5/25\n",
            "15/15 [==============================] - 4s 272ms/step - loss: 3.1486 - accuracy: 0.7581 - val_loss: 1.6890 - val_accuracy: 0.8281\n",
            "Epoch 6/25\n",
            "15/15 [==============================] - 4s 270ms/step - loss: 3.1124 - accuracy: 0.7689 - val_loss: 2.6125 - val_accuracy: 0.8125\n",
            "Epoch 7/25\n",
            "15/15 [==============================] - 4s 266ms/step - loss: 2.7900 - accuracy: 0.7711 - val_loss: 4.3717 - val_accuracy: 0.6875\n",
            "Epoch 8/25\n",
            "15/15 [==============================] - 4s 264ms/step - loss: 3.1573 - accuracy: 0.7473 - val_loss: 2.3007 - val_accuracy: 0.8125\n",
            "Epoch 9/25\n",
            "15/15 [==============================] - 4s 263ms/step - loss: 3.2368 - accuracy: 0.7495 - val_loss: 1.3737 - val_accuracy: 0.8906\n",
            "Epoch 10/25\n",
            "15/15 [==============================] - 4s 264ms/step - loss: 3.0005 - accuracy: 0.7689 - val_loss: 1.8567 - val_accuracy: 0.8125\n",
            "Epoch 11/25\n",
            "15/15 [==============================] - 4s 269ms/step - loss: 2.4806 - accuracy: 0.8164 - val_loss: 2.4308 - val_accuracy: 0.7656\n",
            "Epoch 12/25\n",
            "15/15 [==============================] - 4s 267ms/step - loss: 2.6261 - accuracy: 0.7927 - val_loss: 1.7222 - val_accuracy: 0.8594\n",
            "Epoch 13/25\n",
            "15/15 [==============================] - 4s 267ms/step - loss: 2.6052 - accuracy: 0.7883 - val_loss: 2.2001 - val_accuracy: 0.8438\n",
            "Epoch 14/25\n",
            "15/15 [==============================] - 4s 270ms/step - loss: 2.3052 - accuracy: 0.8229 - val_loss: 2.6145 - val_accuracy: 0.7500\n",
            "Epoch 15/25\n",
            "15/15 [==============================] - 4s 266ms/step - loss: 2.0724 - accuracy: 0.8359 - val_loss: 1.7372 - val_accuracy: 0.8750\n",
            "Epoch 16/25\n",
            "15/15 [==============================] - 4s 269ms/step - loss: 1.9836 - accuracy: 0.8337 - val_loss: 1.5015 - val_accuracy: 0.8906\n",
            "Epoch 17/25\n",
            "15/15 [==============================] - 4s 267ms/step - loss: 1.9162 - accuracy: 0.8467 - val_loss: 1.7936 - val_accuracy: 0.8594\n",
            "Epoch 18/25\n",
            "15/15 [==============================] - 4s 279ms/step - loss: 2.6214 - accuracy: 0.7991 - val_loss: 1.6537 - val_accuracy: 0.8750\n",
            "Epoch 19/25\n",
            "15/15 [==============================] - 4s 265ms/step - loss: 1.9799 - accuracy: 0.8488 - val_loss: 1.5411 - val_accuracy: 0.8750\n",
            "Epoch 20/25\n",
            "15/15 [==============================] - 4s 268ms/step - loss: 2.8836 - accuracy: 0.7732 - val_loss: 1.8461 - val_accuracy: 0.8750\n",
            "Epoch 21/25\n",
            "15/15 [==============================] - 4s 279ms/step - loss: 2.2739 - accuracy: 0.8186 - val_loss: 1.8541 - val_accuracy: 0.8281\n",
            "Epoch 22/25\n",
            "15/15 [==============================] - 4s 266ms/step - loss: 2.0499 - accuracy: 0.8337 - val_loss: 1.7530 - val_accuracy: 0.8750\n",
            "Epoch 23/25\n",
            "15/15 [==============================] - 4s 271ms/step - loss: 2.1404 - accuracy: 0.8251 - val_loss: 1.9666 - val_accuracy: 0.8438\n",
            "Epoch 24/25\n",
            "15/15 [==============================] - 4s 274ms/step - loss: 1.4878 - accuracy: 0.8855 - val_loss: 1.9218 - val_accuracy: 0.8281\n",
            "Epoch 25/25\n",
            "15/15 [==============================] - 4s 274ms/step - loss: 1.7631 - accuracy: 0.8575 - val_loss: 1.7286 - val_accuracy: 0.8594\n"
          ],
          "name": "stdout"
        }
      ]
    },
    {
      "cell_type": "code",
      "metadata": {
        "id": "_tskR8NF0R61",
        "colab": {
          "base_uri": "https://localhost:8080/",
          "height": 90
        },
        "outputId": "6232dbde-3d0b-4327-ff95-c8c08e944fa9"
      },
      "source": [
        "import numpy as np\n",
        "\n",
        "print('Avg Training Accuracy: {:.2f}'.format(np.mean(history1.history['accuracy'])))\n",
        "print('Avg Validation Accuracy: {:.2f}'.format(np.mean(history1.history['val_accuracy'])))\n",
        "print('Avg Training Loss: {:.2f}'.format(np.mean(history1.history['loss'])))\n",
        "print('Avg Validation Loss: {:.2f}'.format(np.mean(history1.history['val_loss']))) ##performance metrics"
      ],
      "execution_count": null,
      "outputs": [
        {
          "output_type": "stream",
          "text": [
            "Avg Training Accuracy: 0.78\n",
            "Avg Validation Accuracy: 0.82\n",
            "Avg Training Loss: 2.79\n",
            "Avg Validation Loss: 2.29\n"
          ],
          "name": "stdout"
        }
      ]
    },
    {
      "cell_type": "code",
      "metadata": {
        "id": "VVg4PNR8ZzUt"
      },
      "source": [
        "import matplotlib.pyplot as plt\n",
        "import seaborn as sns\n",
        "%matplotlib inline  "
      ],
      "execution_count": null,
      "outputs": []
    },
    {
      "cell_type": "code",
      "metadata": {
        "id": "U9501ZL7fNxO",
        "colab": {
          "base_uri": "https://localhost:8080/",
          "height": 297
        },
        "outputId": "9bc70d78-ae4f-4b15-d93c-a8ccbcb825ca"
      },
      "source": [
        "plt.plot(history1.history['loss'], label='train loss')\n",
        "plt.plot(history1.history['val_loss'], label='val loss')\n",
        "plt.legend()\n",
        "plt.xlabel(\"Epochs\")\n",
        "plt.ylabel(\"Loss\")\n",
        "plt.show()\n",
        "plt.savefig('LossVal_loss') ##plot for loss function"
      ],
      "execution_count": null,
      "outputs": [
        {
          "output_type": "display_data",
          "data": {
            "image/png": "[encoded data removed]",
            "text/plain": [
              "<Figure size 432x288 with 1 Axes>"
            ]
          },
          "metadata": {
            "tags": [],
            "needs_background": "light"
          }
        },
        {
          "output_type": "display_data",
          "data": {
            "text/plain": [
              "<Figure size 432x288 with 0 Axes>"
            ]
          },
          "metadata": {
            "tags": []
          }
        }
      ]
    },
    {
      "cell_type": "code",
      "metadata": {
        "id": "H0Z61LvvuGiV",
        "colab": {
          "base_uri": "https://localhost:8080/",
          "height": 298
        },
        "outputId": "d18a972c-6f26-4ae5-e5d9-1bbafb4c3f2a"
      },
      "source": [
        "plt.plot(history1.history['accuracy'], label='train acc')\n",
        "plt.plot(history1.history['val_accuracy'], label='val acc')\n",
        "plt.xlabel(\"Epochs\")\n",
        "plt.ylabel(\"Accuracy\")\n",
        "plt.legend()\n",
        "plt.show()\n",
        "plt.savefig('AccVal_acc') ##plot for accuracy"
      ],
      "execution_count": null,
      "outputs": [
        {
          "output_type": "display_data",
          "data": {
            "image/png": "[encoded data removed]",
            "text/plain": [
              "<Figure size 432x288 with 1 Axes>"
            ]
          },
          "metadata": {
            "tags": [],
            "needs_background": "light"
          }
        },
        {
          "output_type": "display_data",
          "data": {
            "text/plain": [
              "<Figure size 432x288 with 0 Axes>"
            ]
          },
          "metadata": {
            "tags": []
          }
        }
      ]
    },
    {
      "cell_type": "markdown",
      "metadata": {
        "id": "HHFXFbeWqKP8"
      },
      "source": [
        "Model 2 : Optimizer 'SGD', Learning rate '0.05'"
      ]
    },
    {
      "cell_type": "code",
      "metadata": {
        "id": "_7nWG5BxqT9d"
      },
      "source": [
        "model2 = Sequential()\n",
        "for layer in vgg_model.layers[:-1]:\n",
        "    model2.add(layer)    ##adding all the layers of pre-trained model to the sequential model"
      ],
      "execution_count": null,
      "outputs": []
    },
    {
      "cell_type": "code",
      "metadata": {
        "id": "5_2XZa_fxP3K"
      },
      "source": [
        "for layer in model2.layers:\n",
        "    layer.trainable = False ##freezing all the layers to retain the weight"
      ],
      "execution_count": null,
      "outputs": []
    },
    {
      "cell_type": "code",
      "metadata": {
        "id": "NDBdsl2pxRGP"
      },
      "source": [
        "model2.add(Dense(2, activation='softmax', kernel_initializer=initializers.RandomNormal(stddev=0.1, seed=0), bias_initializer=initializers.Zeros())) ##adding fully connected dense layer with softmax activation"
      ],
      "execution_count": null,
      "outputs": []
    },
    {
      "cell_type": "code",
      "metadata": {
        "id": "ue2pS-P-tiW_"
      },
      "source": [
        "opt = keras.optimizers.SGD(learning_rate=0.05)\n",
        "model2.compile(\n",
        "  loss='binary_crossentropy',\n",
        "  optimizer= opt,\n",
        "  metrics=['accuracy'] \n",
        ") ##SGD optimizer with learning rate 0.05"
      ],
      "execution_count": null,
      "outputs": []
    },
    {
      "cell_type": "code",
      "metadata": {
        "id": "zY0Ppvt2eb23",
        "colab": {
          "base_uri": "https://localhost:8080/",
          "height": 1000
        },
        "outputId": "7810e2ae-1fff-413a-dd53-aa5cde6346ab"
      },
      "source": [
        "history2 = model2.fit_generator(training_set,\n",
        "                        epochs = 25,\n",
        "                        validation_data=val_set,\n",
        "                        shuffle = True) ##model training and vaildation"
      ],
      "execution_count": null,
      "outputs": [
        {
          "output_type": "stream",
          "text": [
            "WARNING:tensorflow:From <ipython-input-16-2e79374d7f23>:4: Model.fit_generator (from tensorflow.python.keras.engine.training) is deprecated and will be removed in a future version.\n",
            "Instructions for updating:\n",
            "Please use Model.fit, which supports generators.\n",
            "Epoch 1/25\n",
            "15/15 [==============================] - 217s 14s/step - loss: 6.0954 - accuracy: 0.5702 - val_loss: 7.2060 - val_accuracy: 0.5156\n",
            "Epoch 2/25\n",
            "15/15 [==============================] - 4s 299ms/step - loss: 6.4317 - accuracy: 0.5767 - val_loss: 6.7827 - val_accuracy: 0.5469\n",
            "Epoch 3/25\n",
            "15/15 [==============================] - 4s 299ms/step - loss: 7.0491 - accuracy: 0.5054 - val_loss: 7.6685 - val_accuracy: 0.5000\n",
            "Epoch 4/25\n",
            "15/15 [==============================] - 5s 301ms/step - loss: 8.7120 - accuracy: 0.4320 - val_loss: 7.6685 - val_accuracy: 0.5000\n",
            "Epoch 5/25\n",
            "15/15 [==============================] - 5s 301ms/step - loss: 8.7120 - accuracy: 0.4320 - val_loss: 7.6685 - val_accuracy: 0.5000\n",
            "Epoch 6/25\n",
            "15/15 [==============================] - 4s 300ms/step - loss: 8.7120 - accuracy: 0.4320 - val_loss: 7.6685 - val_accuracy: 0.5000\n",
            "Epoch 7/25\n",
            "15/15 [==============================] - 5s 302ms/step - loss: 8.7120 - accuracy: 0.4320 - val_loss: 7.6685 - val_accuracy: 0.5000\n",
            "Epoch 8/25\n",
            "15/15 [==============================] - 5s 305ms/step - loss: 8.7120 - accuracy: 0.4320 - val_loss: 7.6685 - val_accuracy: 0.5000\n",
            "Epoch 9/25\n",
            "15/15 [==============================] - 5s 301ms/step - loss: 8.7120 - accuracy: 0.4320 - val_loss: 7.6685 - val_accuracy: 0.5000\n",
            "Epoch 10/25\n",
            "15/15 [==============================] - 5s 312ms/step - loss: 8.7120 - accuracy: 0.4320 - val_loss: 7.6685 - val_accuracy: 0.5000\n",
            "Epoch 11/25\n",
            "15/15 [==============================] - 5s 301ms/step - loss: 8.7120 - accuracy: 0.4320 - val_loss: 7.6685 - val_accuracy: 0.5000\n",
            "Epoch 12/25\n",
            "15/15 [==============================] - 5s 301ms/step - loss: 8.7120 - accuracy: 0.4320 - val_loss: 7.6685 - val_accuracy: 0.5000\n",
            "Epoch 13/25\n",
            "15/15 [==============================] - 5s 305ms/step - loss: 8.7120 - accuracy: 0.4320 - val_loss: 7.6685 - val_accuracy: 0.5000\n",
            "Epoch 14/25\n",
            "15/15 [==============================] - 5s 301ms/step - loss: 8.7120 - accuracy: 0.4320 - val_loss: 7.6685 - val_accuracy: 0.5000\n",
            "Epoch 15/25\n",
            "15/15 [==============================] - 5s 300ms/step - loss: 8.7120 - accuracy: 0.4320 - val_loss: 7.6685 - val_accuracy: 0.5000\n",
            "Epoch 16/25\n",
            "15/15 [==============================] - 5s 302ms/step - loss: 8.7120 - accuracy: 0.4320 - val_loss: 7.6685 - val_accuracy: 0.5000\n",
            "Epoch 17/25\n",
            "15/15 [==============================] - 5s 305ms/step - loss: 8.7120 - accuracy: 0.4320 - val_loss: 7.6685 - val_accuracy: 0.5000\n",
            "Epoch 18/25\n",
            "15/15 [==============================] - 5s 305ms/step - loss: 8.7120 - accuracy: 0.4320 - val_loss: 7.6685 - val_accuracy: 0.5000\n",
            "Epoch 19/25\n",
            "15/15 [==============================] - 5s 304ms/step - loss: 8.7120 - accuracy: 0.4320 - val_loss: 7.6685 - val_accuracy: 0.5000\n",
            "Epoch 20/25\n",
            "15/15 [==============================] - 5s 304ms/step - loss: 8.7120 - accuracy: 0.4320 - val_loss: 7.6685 - val_accuracy: 0.5000\n",
            "Epoch 21/25\n",
            "15/15 [==============================] - 5s 304ms/step - loss: 8.7120 - accuracy: 0.4320 - val_loss: 7.6685 - val_accuracy: 0.5000\n",
            "Epoch 22/25\n",
            "15/15 [==============================] - 4s 298ms/step - loss: 8.7120 - accuracy: 0.4320 - val_loss: 7.6685 - val_accuracy: 0.5000\n",
            "Epoch 23/25\n",
            "15/15 [==============================] - 5s 300ms/step - loss: 8.7120 - accuracy: 0.4320 - val_loss: 7.6685 - val_accuracy: 0.5000\n",
            "Epoch 24/25\n",
            "15/15 [==============================] - 4s 298ms/step - loss: 8.7120 - accuracy: 0.4320 - val_loss: 7.6685 - val_accuracy: 0.5000\n",
            "Epoch 25/25\n",
            "15/15 [==============================] - 5s 303ms/step - loss: 8.7120 - accuracy: 0.4320 - val_loss: 7.6685 - val_accuracy: 0.5000\n"
          ],
          "name": "stdout"
        }
      ]
    },
    {
      "cell_type": "code",
      "metadata": {
        "id": "rk3biIGC0uDU",
        "colab": {
          "base_uri": "https://localhost:8080/",
          "height": 90
        },
        "outputId": "23cb6b8f-817a-40c6-f246-95c8a73a84c1"
      },
      "source": [
        "print('Avg Training Accuracy: {:.2f}'.format(np.mean(history2.history['accuracy'])))\n",
        "print('Avg Validation Accuracy: {:.2f}'.format(np.mean(history2.history['val_accuracy'])))\n",
        "print('Avg Training Loss: {:.2f}'.format(np.mean(history2.history['loss'])))\n",
        "print('Avg Validation Loss: {:.2f}'.format(np.mean(history2.history['val_loss']))) ##performance metrics"
      ],
      "execution_count": null,
      "outputs": [
        {
          "output_type": "stream",
          "text": [
            "Avg Training Accuracy: 0.45\n",
            "Avg Validation Accuracy: 0.50\n",
            "Avg Training Loss: 8.45\n",
            "Avg Validation Loss: 7.61\n"
          ],
          "name": "stdout"
        }
      ]
    },
    {
      "cell_type": "code",
      "metadata": {
        "id": "VTf0jEiFelXU",
        "colab": {
          "base_uri": "https://localhost:8080/",
          "height": 279
        },
        "outputId": "479e3c9d-299e-45a5-88c1-d235024ab132"
      },
      "source": [
        "plt.plot(history2.history['loss'], label='train loss')\n",
        "plt.plot(history2.history['val_loss'], label='val loss')\n",
        "plt.xlabel(\"Epochs\")\n",
        "plt.ylabel(\"Loss\")\n",
        "plt.plot()\n",
        "plt.legend()\n",
        "plt.show() ##plot for loss function"
      ],
      "execution_count": null,
      "outputs": [
        {
          "output_type": "display_data",
          "data": {
            "image/png": "[encoded data removed]",
            "text/plain": [
              "<Figure size 432x288 with 1 Axes>"
            ]
          },
          "metadata": {
            "tags": [],
            "needs_background": "light"
          }
        }
      ]
    },
    {
      "cell_type": "code",
      "metadata": {
        "id": "6R9Dzt_Bx559",
        "colab": {
          "base_uri": "https://localhost:8080/",
          "height": 297
        },
        "outputId": "d4555e46-1651-48f0-c0b4-395354f39e1b"
      },
      "source": [
        "plt.plot(history2.history['accuracy'], label='train acc')\n",
        "plt.plot(history2.history['val_accuracy'], label='val acc')\n",
        "plt.legend()\n",
        "plt.xlabel(\"Epochs\")\n",
        "plt.ylabel(\"Accuracy\")\n",
        "plt.show()\n",
        "plt.savefig('AccVal_acc') ##plot for accuracy"
      ],
      "execution_count": null,
      "outputs": [
        {
          "output_type": "display_data",
          "data": {
            "image/png": "[encoded data removed]",
            "text/plain": [
              "<Figure size 432x288 with 1 Axes>"
            ]
          },
          "metadata": {
            "tags": [],
            "needs_background": "light"
          }
        },
        {
          "output_type": "display_data",
          "data": {
            "text/plain": [
              "<Figure size 432x288 with 0 Axes>"
            ]
          },
          "metadata": {
            "tags": []
          }
        }
      ]
    },
    {
      "cell_type": "code",
      "metadata": {
        "id": "fTYGDPFmrpDk"
      },
      "source": [
        ""
      ],
      "execution_count": null,
      "outputs": []
    },
    {
      "cell_type": "markdown",
      "metadata": {
        "id": "JPzkeAuTtcNX"
      },
      "source": [
        "Model 3 : Optimizer 'SGD', Learning rate '0.01'"
      ]
    },
    {
      "cell_type": "code",
      "metadata": {
        "id": "yMZaN1UQthsn"
      },
      "source": [
        "model3 = Sequential()\n",
        "for layer in vgg_model.layers[:-1]:\n",
        "    model3.add(layer) ##adding all the layers of pre-trained to the sequential model"
      ],
      "execution_count": null,
      "outputs": []
    },
    {
      "cell_type": "code",
      "metadata": {
        "id": "bsL2wRLkt-es"
      },
      "source": [
        "for layer in model3.layers:\n",
        "    layer.trainable = False ##freezing all the layers to retain weights"
      ],
      "execution_count": null,
      "outputs": []
    },
    {
      "cell_type": "code",
      "metadata": {
        "id": "mJOdtIiQuFFR"
      },
      "source": [
        "model3.add(Dense(2, activation='softmax', kernel_initializer=initializers.RandomNormal(stddev=0.1, seed=0), bias_initializer=initializers.Zeros())) ##adding fully connected dense layer with softmax activation"
      ],
      "execution_count": null,
      "outputs": []
    },
    {
      "cell_type": "code",
      "metadata": {
        "id": "nP4tQY60uKvF"
      },
      "source": [
        "opt = keras.optimizers.SGD(learning_rate=0.01)\n",
        "model3.compile(\n",
        "  loss='binary_crossentropy',\n",
        "  optimizer= opt,\n",
        "  metrics=['accuracy'] ##SGD optimizer with rate 0.01\n",
        ")"
      ],
      "execution_count": null,
      "outputs": []
    },
    {
      "cell_type": "code",
      "metadata": {
        "id": "meBYrKd-ud58",
        "colab": {
          "base_uri": "https://localhost:8080/",
          "height": 935
        },
        "outputId": "a7953981-1575-4086-c53f-2855d6855340"
      },
      "source": [
        "history3 = model3.fit_generator(training_set,\n",
        "                        epochs = 25,\n",
        "                        validation_data=val_set,\n",
        "                        shuffle = True) ##training and validation"
      ],
      "execution_count": null,
      "outputs": [
        {
          "output_type": "stream",
          "text": [
            "Epoch 1/25\n",
            "15/15 [==============================] - 4s 291ms/step - loss: 3.8977 - accuracy: 0.5616 - val_loss: 6.1715 - val_accuracy: 0.5312\n",
            "Epoch 2/25\n",
            "15/15 [==============================] - 4s 268ms/step - loss: 2.7098 - accuracy: 0.6847 - val_loss: 0.7862 - val_accuracy: 0.7344\n",
            "Epoch 3/25\n",
            "15/15 [==============================] - 4s 268ms/step - loss: 1.8974 - accuracy: 0.7300 - val_loss: 0.7046 - val_accuracy: 0.8125\n",
            "Epoch 4/25\n",
            "15/15 [==============================] - 4s 266ms/step - loss: 1.7881 - accuracy: 0.7365 - val_loss: 2.9031 - val_accuracy: 0.6406\n",
            "Epoch 5/25\n",
            "15/15 [==============================] - 4s 267ms/step - loss: 2.3666 - accuracy: 0.6868 - val_loss: 0.8464 - val_accuracy: 0.8594\n",
            "Epoch 6/25\n",
            "15/15 [==============================] - 4s 269ms/step - loss: 0.7769 - accuracy: 0.8294 - val_loss: 0.7122 - val_accuracy: 0.8594\n",
            "Epoch 7/25\n",
            "15/15 [==============================] - 4s 273ms/step - loss: 2.3090 - accuracy: 0.6933 - val_loss: 1.2506 - val_accuracy: 0.8281\n",
            "Epoch 8/25\n",
            "15/15 [==============================] - 4s 268ms/step - loss: 1.2323 - accuracy: 0.7840 - val_loss: 0.6491 - val_accuracy: 0.8281\n",
            "Epoch 9/25\n",
            "15/15 [==============================] - 4s 269ms/step - loss: 0.9621 - accuracy: 0.8229 - val_loss: 0.6713 - val_accuracy: 0.8281\n",
            "Epoch 10/25\n",
            "15/15 [==============================] - 4s 269ms/step - loss: 1.0303 - accuracy: 0.7905 - val_loss: 0.9196 - val_accuracy: 0.7812\n",
            "Epoch 11/25\n",
            "15/15 [==============================] - 4s 270ms/step - loss: 0.8662 - accuracy: 0.8315 - val_loss: 2.8542 - val_accuracy: 0.6250\n",
            "Epoch 12/25\n",
            "15/15 [==============================] - 4s 263ms/step - loss: 1.7760 - accuracy: 0.7430 - val_loss: 1.8941 - val_accuracy: 0.7188\n",
            "Epoch 13/25\n",
            "15/15 [==============================] - 4s 271ms/step - loss: 0.8534 - accuracy: 0.8337 - val_loss: 0.5452 - val_accuracy: 0.8594\n",
            "Epoch 14/25\n",
            "15/15 [==============================] - 4s 267ms/step - loss: 1.3910 - accuracy: 0.7667 - val_loss: 0.6995 - val_accuracy: 0.8281\n",
            "Epoch 15/25\n",
            "15/15 [==============================] - 4s 269ms/step - loss: 0.7873 - accuracy: 0.8186 - val_loss: 0.8572 - val_accuracy: 0.8438\n",
            "Epoch 16/25\n",
            "15/15 [==============================] - 4s 269ms/step - loss: 0.5934 - accuracy: 0.8510 - val_loss: 0.5281 - val_accuracy: 0.8594\n",
            "Epoch 17/25\n",
            "15/15 [==============================] - 4s 268ms/step - loss: 1.1316 - accuracy: 0.8229 - val_loss: 0.4766 - val_accuracy: 0.8594\n",
            "Epoch 18/25\n",
            "15/15 [==============================] - 4s 266ms/step - loss: 0.4613 - accuracy: 0.8769 - val_loss: 1.4652 - val_accuracy: 0.7500\n",
            "Epoch 19/25\n",
            "15/15 [==============================] - 4s 267ms/step - loss: 0.6598 - accuracy: 0.8359 - val_loss: 0.4638 - val_accuracy: 0.8750\n",
            "Epoch 20/25\n",
            "15/15 [==============================] - 4s 267ms/step - loss: 1.1488 - accuracy: 0.7840 - val_loss: 0.6284 - val_accuracy: 0.8594\n",
            "Epoch 21/25\n",
            "15/15 [==============================] - 4s 269ms/step - loss: 0.8011 - accuracy: 0.8229 - val_loss: 0.9812 - val_accuracy: 0.7969\n",
            "Epoch 22/25\n",
            "15/15 [==============================] - 4s 269ms/step - loss: 0.7938 - accuracy: 0.8359 - val_loss: 0.4047 - val_accuracy: 0.8906\n",
            "Epoch 23/25\n",
            "15/15 [==============================] - 4s 268ms/step - loss: 0.6492 - accuracy: 0.8467 - val_loss: 2.6859 - val_accuracy: 0.6250\n",
            "Epoch 24/25\n",
            "15/15 [==============================] - 4s 281ms/step - loss: 1.0639 - accuracy: 0.8510 - val_loss: 0.5313 - val_accuracy: 0.8438\n",
            "Epoch 25/25\n",
            "15/15 [==============================] - 4s 270ms/step - loss: 0.6481 - accuracy: 0.8402 - val_loss: 0.5422 - val_accuracy: 0.8594\n"
          ],
          "name": "stdout"
        }
      ]
    },
    {
      "cell_type": "code",
      "metadata": {
        "id": "d9Jn6ejy001Y",
        "colab": {
          "base_uri": "https://localhost:8080/",
          "height": 90
        },
        "outputId": "740e23ac-f687-4c40-a2d9-94358170af51"
      },
      "source": [
        "print('Avg Training Accuracy: {:.2f}'.format(np.mean(history3.history['accuracy'])))\n",
        "print('Avg Validation Accuracy: {:.2f}'.format(np.mean(history3.history['val_accuracy'])))\n",
        "print('Avg Training Loss: {:.2f}'.format(np.mean(history3.history['loss'])))\n",
        "print('Avg Validation Loss: {:.2f}'.format(np.mean(history3.history['val_loss']))) ##performance metrics"
      ],
      "execution_count": null,
      "outputs": [
        {
          "output_type": "stream",
          "text": [
            "Avg Training Accuracy: 0.79\n",
            "Avg Validation Accuracy: 0.79\n",
            "Avg Training Loss: 1.30\n",
            "Avg Validation Loss: 1.25\n"
          ],
          "name": "stdout"
        }
      ]
    },
    {
      "cell_type": "code",
      "metadata": {
        "id": "X00dWtCkuh8r",
        "colab": {
          "base_uri": "https://localhost:8080/",
          "height": 297
        },
        "outputId": "9ad9cb45-2b95-4479-93e1-767738358bd1"
      },
      "source": [
        "plt.plot(history3.history['loss'], label='train loss')\n",
        "plt.plot(history3.history['val_loss'], label='val loss')\n",
        "plt.plot()\n",
        "plt.xlabel(\"Epochs\")\n",
        "plt.ylabel(\"Loss\")\n",
        "plt.legend()\n",
        "plt.show()\n",
        "plt.savefig('LossVal_loss') ##plotting loss functions"
      ],
      "execution_count": null,
      "outputs": [
        {
          "output_type": "display_data",
          "data": {
            "image/png": "[encoded data removed]",
            "text/plain": [
              "<Figure size 432x288 with 1 Axes>"
            ]
          },
          "metadata": {
            "tags": [],
            "needs_background": "light"
          }
        },
        {
          "output_type": "display_data",
          "data": {
            "text/plain": [
              "<Figure size 432x288 with 0 Axes>"
            ]
          },
          "metadata": {
            "tags": []
          }
        }
      ]
    },
    {
      "cell_type": "code",
      "metadata": {
        "id": "54MJ95akunDy",
        "colab": {
          "base_uri": "https://localhost:8080/",
          "height": 297
        },
        "outputId": "84fea607-70dc-445b-d592-f4c90033026c"
      },
      "source": [
        "plt.plot(history3.history['accuracy'], label='train acc')\n",
        "plt.plot(history3.history['val_accuracy'], label='val acc')\n",
        "plt.legend()\n",
        "plt.xlabel(\"Epochs\")\n",
        "plt.ylabel(\"Accuracy\")\n",
        "plt.show()\n",
        "plt.savefig('AccVal_acc') ##plotting accuracy"
      ],
      "execution_count": null,
      "outputs": [
        {
          "output_type": "display_data",
          "data": {
            "image/png": "[encoded data removed]",
            "text/plain": [
              "<Figure size 432x288 with 1 Axes>"
            ]
          },
          "metadata": {
            "tags": [],
            "needs_background": "light"
          }
        },
        {
          "output_type": "display_data",
          "data": {
            "text/plain": [
              "<Figure size 432x288 with 0 Axes>"
            ]
          },
          "metadata": {
            "tags": []
          }
        }
      ]
    },
    {
      "cell_type": "code",
      "metadata": {
        "id": "y_EjYlQyuvUV"
      },
      "source": [
        ""
      ],
      "execution_count": null,
      "outputs": []
    },
    {
      "cell_type": "markdown",
      "metadata": {
        "id": "dGqx7FvpuwJk"
      },
      "source": [
        "Model 4 Optimizer 'SGD', Learning rate '0.005'\n",
        "\n"
      ]
    },
    {
      "cell_type": "code",
      "metadata": {
        "id": "nb6zKgi4vD7v"
      },
      "source": [
        "model4 = Sequential()\n",
        "for layer in vgg_model.layers[:-1]:\n",
        "    model4.add(layer)  ##adding all the layers of pre-trained model to the sequential model"
      ],
      "execution_count": null,
      "outputs": []
    },
    {
      "cell_type": "code",
      "metadata": {
        "id": "Rmqrf6xHvSFl"
      },
      "source": [
        "for layer in model4.layers:\n",
        "    layer.trainable = False ##freezing all the layers to retain weight"
      ],
      "execution_count": null,
      "outputs": []
    },
    {
      "cell_type": "code",
      "metadata": {
        "id": "NxYVjU6nvWCT"
      },
      "source": [
        "model4.add(Dense(2, activation='softmax', kernel_initializer=initializers.RandomNormal(stddev=0.1, seed=0), bias_initializer=initializers.Zeros())) ##adding a fully connected dense layer with 'softmax' activation"
      ],
      "execution_count": null,
      "outputs": []
    },
    {
      "cell_type": "code",
      "metadata": {
        "id": "NN4FCWfwvaAZ"
      },
      "source": [
        "opt = keras.optimizers.SGD(learning_rate=0.005)\n",
        "model4.compile(\n",
        "  loss='binary_crossentropy',\n",
        "  optimizer= opt,\n",
        "  metrics=['accuracy'] \n",
        ") ##SGD optimizer with learning rate 0.005"
      ],
      "execution_count": null,
      "outputs": []
    },
    {
      "cell_type": "code",
      "metadata": {
        "id": "B3hNzElNv5Kv",
        "colab": {
          "base_uri": "https://localhost:8080/",
          "height": 935
        },
        "outputId": "1ad1686b-ed91-4d61-a3be-2c43bfd89c24"
      },
      "source": [
        "history4 = model4.fit_generator(training_set,\n",
        "                        epochs = 25,\n",
        "                        validation_data=val_set,\n",
        "                        shuffle = True) ##training and validation"
      ],
      "execution_count": null,
      "outputs": [
        {
          "output_type": "stream",
          "text": [
            "Epoch 1/25\n",
            "15/15 [==============================] - 4s 292ms/step - loss: 2.9124 - accuracy: 0.4903 - val_loss: 1.8890 - val_accuracy: 0.6719\n",
            "Epoch 2/25\n",
            "15/15 [==============================] - 4s 267ms/step - loss: 1.1827 - accuracy: 0.7127 - val_loss: 0.6078 - val_accuracy: 0.7344\n",
            "Epoch 3/25\n",
            "15/15 [==============================] - 4s 270ms/step - loss: 1.6443 - accuracy: 0.6760 - val_loss: 0.5763 - val_accuracy: 0.8594\n",
            "Epoch 4/25\n",
            "15/15 [==============================] - 4s 270ms/step - loss: 0.8914 - accuracy: 0.7430 - val_loss: 2.8323 - val_accuracy: 0.6250\n",
            "Epoch 5/25\n",
            "15/15 [==============================] - 4s 271ms/step - loss: 1.0097 - accuracy: 0.7689 - val_loss: 1.2761 - val_accuracy: 0.7188\n",
            "Epoch 6/25\n",
            "15/15 [==============================] - 4s 266ms/step - loss: 1.1512 - accuracy: 0.7279 - val_loss: 0.4817 - val_accuracy: 0.8594\n",
            "Epoch 7/25\n",
            "15/15 [==============================] - 4s 270ms/step - loss: 0.8499 - accuracy: 0.7819 - val_loss: 0.4602 - val_accuracy: 0.8594\n",
            "Epoch 8/25\n",
            "15/15 [==============================] - 4s 268ms/step - loss: 0.6102 - accuracy: 0.8143 - val_loss: 0.5969 - val_accuracy: 0.7500\n",
            "Epoch 9/25\n",
            "15/15 [==============================] - 4s 270ms/step - loss: 0.7303 - accuracy: 0.7840 - val_loss: 0.4495 - val_accuracy: 0.8594\n",
            "Epoch 10/25\n",
            "15/15 [==============================] - 4s 270ms/step - loss: 0.6440 - accuracy: 0.8035 - val_loss: 0.5907 - val_accuracy: 0.8281\n",
            "Epoch 11/25\n",
            "15/15 [==============================] - 4s 270ms/step - loss: 0.6326 - accuracy: 0.7905 - val_loss: 0.8144 - val_accuracy: 0.7656\n",
            "Epoch 12/25\n",
            "15/15 [==============================] - 4s 270ms/step - loss: 0.4027 - accuracy: 0.8618 - val_loss: 0.4343 - val_accuracy: 0.8594\n",
            "Epoch 13/25\n",
            "15/15 [==============================] - 4s 269ms/step - loss: 0.3632 - accuracy: 0.8661 - val_loss: 0.7042 - val_accuracy: 0.7656\n",
            "Epoch 14/25\n",
            "15/15 [==============================] - 4s 266ms/step - loss: 0.7820 - accuracy: 0.7862 - val_loss: 1.7838 - val_accuracy: 0.6562\n",
            "Epoch 15/25\n",
            "15/15 [==============================] - 4s 269ms/step - loss: 0.9805 - accuracy: 0.7732 - val_loss: 0.3940 - val_accuracy: 0.8594\n",
            "Epoch 16/25\n",
            "15/15 [==============================] - 4s 267ms/step - loss: 0.4117 - accuracy: 0.8510 - val_loss: 0.4299 - val_accuracy: 0.8750\n",
            "Epoch 17/25\n",
            "15/15 [==============================] - 4s 269ms/step - loss: 0.3057 - accuracy: 0.9028 - val_loss: 0.3828 - val_accuracy: 0.8594\n",
            "Epoch 18/25\n",
            "15/15 [==============================] - 4s 264ms/step - loss: 0.2836 - accuracy: 0.8898 - val_loss: 0.3736 - val_accuracy: 0.8594\n",
            "Epoch 19/25\n",
            "15/15 [==============================] - 4s 270ms/step - loss: 0.2973 - accuracy: 0.8834 - val_loss: 0.3692 - val_accuracy: 0.8594\n",
            "Epoch 20/25\n",
            "15/15 [==============================] - 4s 270ms/step - loss: 0.3895 - accuracy: 0.8423 - val_loss: 0.3416 - val_accuracy: 0.8906\n",
            "Epoch 21/25\n",
            "15/15 [==============================] - 4s 272ms/step - loss: 0.2567 - accuracy: 0.9071 - val_loss: 0.3389 - val_accuracy: 0.8594\n",
            "Epoch 22/25\n",
            "15/15 [==============================] - 4s 277ms/step - loss: 0.3103 - accuracy: 0.8898 - val_loss: 0.3591 - val_accuracy: 0.8750\n",
            "Epoch 23/25\n",
            "15/15 [==============================] - 4s 280ms/step - loss: 0.3013 - accuracy: 0.8942 - val_loss: 0.3062 - val_accuracy: 0.9219\n",
            "Epoch 24/25\n",
            "15/15 [==============================] - 4s 281ms/step - loss: 0.3552 - accuracy: 0.8575 - val_loss: 0.8817 - val_accuracy: 0.8125\n",
            "Epoch 25/25\n",
            "15/15 [==============================] - 4s 268ms/step - loss: 0.4607 - accuracy: 0.8359 - val_loss: 0.4157 - val_accuracy: 0.8750\n"
          ],
          "name": "stdout"
        }
      ]
    },
    {
      "cell_type": "code",
      "metadata": {
        "id": "zb2Bi6-H08-j",
        "colab": {
          "base_uri": "https://localhost:8080/",
          "height": 90
        },
        "outputId": "51323b3b-9ee7-4013-f43b-a5f4893e898a"
      },
      "source": [
        "print('Avg Training Accuracy: {:.2f}'.format(np.mean(history4.history['accuracy'])))\n",
        "print('Avg Validation Accuracy: {:.2f}'.format(np.mean(history4.history['val_accuracy'])))\n",
        "print('Avg Training Loss: {:.2f}'.format(np.mean(history4.history['loss'])))\n",
        "print('Avg Validation Loss: {:.2f}'.format(np.mean(history4.history['val_loss']))) ##performance metrics"
      ],
      "execution_count": null,
      "outputs": [
        {
          "output_type": "stream",
          "text": [
            "Avg Training Accuracy: 0.81\n",
            "Avg Validation Accuracy: 0.81\n",
            "Avg Training Loss: 0.73\n",
            "Avg Validation Loss: 0.72\n"
          ],
          "name": "stdout"
        }
      ]
    },
    {
      "cell_type": "code",
      "metadata": {
        "id": "CtlPCaCmwD8v",
        "colab": {
          "base_uri": "https://localhost:8080/",
          "height": 298
        },
        "outputId": "693d875a-4eaa-4ca9-b79d-2e3355cec7aa"
      },
      "source": [
        "plt.plot(history4.history['loss'], label='train loss')\n",
        "plt.plot(history4.history['val_loss'], label='val loss')\n",
        "plt.plot()\n",
        "plt.xlabel(\"Epochs\")\n",
        "plt.ylabel(\"Loss\")\n",
        "plt.legend()\n",
        "plt.show()\n",
        "plt.savefig('LossVal_loss') ##plotting loss function"
      ],
      "execution_count": null,
      "outputs": [
        {
          "output_type": "display_data",
          "data": {
            "image/png": "[encoded data removed]",
            "text/plain": [
              "<Figure size 432x288 with 1 Axes>"
            ]
          },
          "metadata": {
            "tags": [],
            "needs_background": "light"
          }
        },
        {
          "output_type": "display_data",
          "data": {
            "text/plain": [
              "<Figure size 432x288 with 0 Axes>"
            ]
          },
          "metadata": {
            "tags": []
          }
        }
      ]
    },
    {
      "cell_type": "code",
      "metadata": {
        "id": "1d9xZwZmwEJa",
        "colab": {
          "base_uri": "https://localhost:8080/",
          "height": 297
        },
        "outputId": "1276f7c9-b377-495f-90b7-094e3cb259b8"
      },
      "source": [
        "plt.plot(history4.history['accuracy'], label='train acc')\n",
        "plt.plot(history4.history['val_accuracy'], label='val acc')\n",
        "plt.xlabel(\"Epochs\")\n",
        "plt.ylabel(\"Accuracy\")\n",
        "plt.legend()\n",
        "plt.show() ##plotting accuracy\n",
        "plt.savefig('AccVal_acc')"
      ],
      "execution_count": null,
      "outputs": [
        {
          "output_type": "display_data",
          "data": {
            "image/png": "[encoded data removed]",
            "text/plain": [
              "<Figure size 432x288 with 1 Axes>"
            ]
          },
          "metadata": {
            "tags": [],
            "needs_background": "light"
          }
        },
        {
          "output_type": "display_data",
          "data": {
            "text/plain": [
              "<Figure size 432x288 with 0 Axes>"
            ]
          },
          "metadata": {
            "tags": []
          }
        }
      ]
    },
    {
      "cell_type": "markdown",
      "metadata": {
        "id": "2SOmlf9pwWAU"
      },
      "source": [
        "Model 5 Optimizer 'SGD', Learning rate '0.001'"
      ]
    },
    {
      "cell_type": "code",
      "metadata": {
        "id": "-Mnsv2tiwTz2"
      },
      "source": [
        "model5 = Sequential()\n",
        "for layer in vgg_model.layers[:-1]:\n",
        "    model5.add(layer) ## loading all the layers of pre-trained model to sequential model"
      ],
      "execution_count": null,
      "outputs": []
    },
    {
      "cell_type": "code",
      "metadata": {
        "id": "AaUcyqWHwg9R"
      },
      "source": [
        "for layer in model5.layers:\n",
        "    layer.trainable = False ##freezing all the layers to retain weights"
      ],
      "execution_count": null,
      "outputs": []
    },
    {
      "cell_type": "code",
      "metadata": {
        "id": "D4YfIl-nwhLh"
      },
      "source": [
        "model5.add(Dense(2, activation='softmax', kernel_initializer=initializers.RandomNormal(stddev=0.1, seed=0), bias_initializer=initializers.Zeros())) ##adding fully connected dense layer with 'softmax' activation"
      ],
      "execution_count": null,
      "outputs": []
    },
    {
      "cell_type": "code",
      "metadata": {
        "id": "j3dqbHm6whYc"
      },
      "source": [
        "opt = keras.optimizers.SGD(learning_rate=0.001)\n",
        "model5.compile(\n",
        "  loss='binary_crossentropy',\n",
        "  optimizer= opt,\n",
        "  metrics=['accuracy'] \n",
        ") ## SGD optimizer with learning rate 0.001"
      ],
      "execution_count": null,
      "outputs": []
    },
    {
      "cell_type": "code",
      "metadata": {
        "id": "4_I7gn5Twhib",
        "colab": {
          "base_uri": "https://localhost:8080/",
          "height": 935
        },
        "outputId": "d426403c-57fc-4774-a54e-e1878ef3fa29"
      },
      "source": [
        "history5 = model5.fit_generator(training_set,\n",
        "                        epochs = 25,\n",
        "                        validation_data=val_set,\n",
        "                        shuffle = True) ##training and validation"
      ],
      "execution_count": null,
      "outputs": [
        {
          "output_type": "stream",
          "text": [
            "Epoch 1/25\n",
            "15/15 [==============================] - 4s 297ms/step - loss: 1.7666 - accuracy: 0.5205 - val_loss: 1.6459 - val_accuracy: 0.5625\n",
            "Epoch 2/25\n",
            "15/15 [==============================] - 4s 268ms/step - loss: 1.3466 - accuracy: 0.5940 - val_loss: 1.2017 - val_accuracy: 0.6406\n",
            "Epoch 3/25\n",
            "15/15 [==============================] - 4s 266ms/step - loss: 1.0809 - accuracy: 0.6523 - val_loss: 1.0301 - val_accuracy: 0.7031\n",
            "Epoch 4/25\n",
            "15/15 [==============================] - 4s 271ms/step - loss: 0.9087 - accuracy: 0.6998 - val_loss: 0.8004 - val_accuracy: 0.7188\n",
            "Epoch 5/25\n",
            "15/15 [==============================] - 4s 269ms/step - loss: 0.8206 - accuracy: 0.6955 - val_loss: 0.7252 - val_accuracy: 0.7188\n",
            "Epoch 6/25\n",
            "15/15 [==============================] - 4s 280ms/step - loss: 0.7489 - accuracy: 0.7106 - val_loss: 0.6597 - val_accuracy: 0.7344\n",
            "Epoch 7/25\n",
            "15/15 [==============================] - 4s 269ms/step - loss: 0.6985 - accuracy: 0.7235 - val_loss: 0.6087 - val_accuracy: 0.7344\n",
            "Epoch 8/25\n",
            "15/15 [==============================] - 4s 272ms/step - loss: 0.6715 - accuracy: 0.7430 - val_loss: 0.5609 - val_accuracy: 0.7812\n",
            "Epoch 9/25\n",
            "15/15 [==============================] - 4s 266ms/step - loss: 0.6325 - accuracy: 0.7603 - val_loss: 0.6085 - val_accuracy: 0.7969\n",
            "Epoch 10/25\n",
            "15/15 [==============================] - 4s 270ms/step - loss: 0.6088 - accuracy: 0.7646 - val_loss: 0.5664 - val_accuracy: 0.7812\n",
            "Epoch 11/25\n",
            "15/15 [==============================] - 4s 269ms/step - loss: 0.5910 - accuracy: 0.7646 - val_loss: 0.5293 - val_accuracy: 0.7969\n",
            "Epoch 12/25\n",
            "15/15 [==============================] - 4s 271ms/step - loss: 0.5848 - accuracy: 0.7603 - val_loss: 0.4893 - val_accuracy: 0.8125\n",
            "Epoch 13/25\n",
            "15/15 [==============================] - 4s 271ms/step - loss: 0.5582 - accuracy: 0.7646 - val_loss: 0.4797 - val_accuracy: 0.8125\n",
            "Epoch 14/25\n",
            "15/15 [==============================] - 4s 278ms/step - loss: 0.5340 - accuracy: 0.7775 - val_loss: 0.4815 - val_accuracy: 0.7969\n",
            "Epoch 15/25\n",
            "15/15 [==============================] - 4s 272ms/step - loss: 0.5374 - accuracy: 0.7840 - val_loss: 0.4677 - val_accuracy: 0.8125\n",
            "Epoch 16/25\n",
            "15/15 [==============================] - 4s 280ms/step - loss: 0.5240 - accuracy: 0.7991 - val_loss: 0.4623 - val_accuracy: 0.8125\n",
            "Epoch 17/25\n",
            "15/15 [==============================] - 4s 266ms/step - loss: 0.5264 - accuracy: 0.7905 - val_loss: 0.4626 - val_accuracy: 0.8125\n",
            "Epoch 18/25\n",
            "15/15 [==============================] - 4s 267ms/step - loss: 0.4993 - accuracy: 0.7905 - val_loss: 0.4659 - val_accuracy: 0.8125\n",
            "Epoch 19/25\n",
            "15/15 [==============================] - 4s 267ms/step - loss: 0.4986 - accuracy: 0.7970 - val_loss: 0.4513 - val_accuracy: 0.8125\n",
            "Epoch 20/25\n",
            "15/15 [==============================] - 4s 269ms/step - loss: 0.4900 - accuracy: 0.8099 - val_loss: 0.4505 - val_accuracy: 0.8281\n",
            "Epoch 21/25\n",
            "15/15 [==============================] - 4s 271ms/step - loss: 0.4784 - accuracy: 0.8035 - val_loss: 0.4586 - val_accuracy: 0.8281\n",
            "Epoch 22/25\n",
            "15/15 [==============================] - 4s 268ms/step - loss: 0.4652 - accuracy: 0.8078 - val_loss: 0.4615 - val_accuracy: 0.8125\n",
            "Epoch 23/25\n",
            "15/15 [==============================] - 4s 267ms/step - loss: 0.4795 - accuracy: 0.8056 - val_loss: 0.4452 - val_accuracy: 0.8125\n",
            "Epoch 24/25\n",
            "15/15 [==============================] - 4s 269ms/step - loss: 0.4616 - accuracy: 0.8229 - val_loss: 0.4416 - val_accuracy: 0.8281\n",
            "Epoch 25/25\n",
            "15/15 [==============================] - 4s 283ms/step - loss: 0.4636 - accuracy: 0.8099 - val_loss: 0.4434 - val_accuracy: 0.8281\n"
          ],
          "name": "stdout"
        }
      ]
    },
    {
      "cell_type": "code",
      "metadata": {
        "id": "j78wiCe-whsG",
        "colab": {
          "base_uri": "https://localhost:8080/",
          "height": 90
        },
        "outputId": "072d7777-7178-415c-b01e-6276c3acc80d"
      },
      "source": [
        "print('Avg Training Accuracy: {:.2f}'.format(np.mean(history5.history['accuracy'])))\n",
        "print('Avg Validation Accuracy: {:.2f}'.format(np.mean(history5.history['val_accuracy'])))\n",
        "print('Avg Training Loss: {:.2f}'.format(np.mean(history5.history['loss'])))\n",
        "print('Avg Validation Loss: {:.2f}'.format(np.mean(history5.history['val_loss']))) #performance metrics"
      ],
      "execution_count": null,
      "outputs": [
        {
          "output_type": "stream",
          "text": [
            "Avg Training Accuracy: 0.75\n",
            "Avg Validation Accuracy: 0.78\n",
            "Avg Training Loss: 0.68\n",
            "Avg Validation Loss: 0.62\n"
          ],
          "name": "stdout"
        }
      ]
    },
    {
      "cell_type": "code",
      "metadata": {
        "id": "px2eD_YD11DG",
        "colab": {
          "base_uri": "https://localhost:8080/",
          "height": 297
        },
        "outputId": "b9d77a9c-b438-497a-bde9-bfc283bd3aad"
      },
      "source": [
        "plt.plot(history5.history['loss'], label='train loss')\n",
        "plt.plot(history5.history['val_loss'], label='val loss')\n",
        "plt.xlabel(\"Epochs\")\n",
        "plt.ylabel(\"loss\")\n",
        "plt.plot()\n",
        "plt.legend()\n",
        "plt.show()\n",
        "plt.savefig('LossVal_loss') ##plotting loss function"
      ],
      "execution_count": null,
      "outputs": [
        {
          "output_type": "display_data",
          "data": {
            "image/png": "[encoded data removed]",
            "text/plain": [
              "<Figure size 432x288 with 1 Axes>"
            ]
          },
          "metadata": {
            "tags": [],
            "needs_background": "light"
          }
        },
        {
          "output_type": "display_data",
          "data": {
            "text/plain": [
              "<Figure size 432x288 with 0 Axes>"
            ]
          },
          "metadata": {
            "tags": []
          }
        }
      ]
    },
    {
      "cell_type": "code",
      "metadata": {
        "id": "WiUR9pU111ZI",
        "colab": {
          "base_uri": "https://localhost:8080/",
          "height": 297
        },
        "outputId": "7018d9ca-709f-47de-9ae8-7969d18f3321"
      },
      "source": [
        "plt.plot(history5.history['accuracy'], label='train acc')\n",
        "plt.plot(history5.history['val_accuracy'], label='val acc')\n",
        "plt.xlabel(\"Epochs\")\n",
        "plt.ylabel(\"Accuracy\")\n",
        "plt.legend()\n",
        "plt.show()\n",
        "plt.savefig('AccVal_acc') ##plotting accuracy"
      ],
      "execution_count": null,
      "outputs": [
        {
          "output_type": "display_data",
          "data": {
            "image/png": "[encoded data removed]",
            "text/plain": [
              "<Figure size 432x288 with 1 Axes>"
            ]
          },
          "metadata": {
            "tags": [],
            "needs_background": "light"
          }
        },
        {
          "output_type": "display_data",
          "data": {
            "text/plain": [
              "<Figure size 432x288 with 0 Axes>"
            ]
          },
          "metadata": {
            "tags": []
          }
        }
      ]
    },
    {
      "cell_type": "markdown",
      "metadata": {
        "id": "Ikck5bQs2z-X"
      },
      "source": [
        "Model 6 Optimizer 'SGD', Learning rate '0.0005'"
      ]
    },
    {
      "cell_type": "code",
      "metadata": {
        "id": "EdY4NxwCwh2t"
      },
      "source": [
        "model6 = Sequential()\n",
        "for layer in vgg_model.layers[:-1]:\n",
        "    model6.add(layer) ##loading all layers of the pre-trained model to sequential model"
      ],
      "execution_count": null,
      "outputs": []
    },
    {
      "cell_type": "code",
      "metadata": {
        "id": "bjiXBr6F27Ij"
      },
      "source": [
        "for layer in model6.layers:\n",
        "    layer.trainable = False ##freezing all the layers to retain the weights"
      ],
      "execution_count": null,
      "outputs": []
    },
    {
      "cell_type": "code",
      "metadata": {
        "id": "C4u-2lud27UF"
      },
      "source": [
        "model6.add(Dense(2, activation='softmax', kernel_initializer=initializers.RandomNormal(stddev=0.1, seed=0), bias_initializer=initializers.Zeros())) ##adding a fully connected dense layer with 'softmax' activation"
      ],
      "execution_count": null,
      "outputs": []
    },
    {
      "cell_type": "code",
      "metadata": {
        "id": "-1NaW8Fg27ds"
      },
      "source": [
        "opt = keras.optimizers.SGD(learning_rate=0.0005)\n",
        "model6.compile(\n",
        "  loss='binary_crossentropy',\n",
        "  optimizer= opt,\n",
        "  metrics=['accuracy'] \n",
        ") ##SGD optimizer with learning rate 0.0005"
      ],
      "execution_count": null,
      "outputs": []
    },
    {
      "cell_type": "code",
      "metadata": {
        "id": "9aV7HmBL27n1",
        "colab": {
          "base_uri": "https://localhost:8080/",
          "height": 935
        },
        "outputId": "1fa80194-0119-4bdf-e777-25106805b683"
      },
      "source": [
        "history6 = model6.fit_generator(training_set,\n",
        "                        epochs = 25,\n",
        "                        validation_data=val_set,\n",
        "                        shuffle = True) ##training and validation"
      ],
      "execution_count": null,
      "outputs": [
        {
          "output_type": "stream",
          "text": [
            "Epoch 1/25\n",
            "15/15 [==============================] - 4s 293ms/step - loss: 1.8840 - accuracy: 0.4860 - val_loss: 2.0088 - val_accuracy: 0.5469\n",
            "Epoch 2/25\n",
            "15/15 [==============================] - 4s 270ms/step - loss: 1.6188 - accuracy: 0.5529 - val_loss: 1.6508 - val_accuracy: 0.5625\n",
            "Epoch 3/25\n",
            "15/15 [==============================] - 4s 273ms/step - loss: 1.3867 - accuracy: 0.5853 - val_loss: 1.3996 - val_accuracy: 0.5938\n",
            "Epoch 4/25\n",
            "15/15 [==============================] - 4s 274ms/step - loss: 1.2297 - accuracy: 0.6026 - val_loss: 1.2341 - val_accuracy: 0.6250\n",
            "Epoch 5/25\n",
            "15/15 [==============================] - 4s 271ms/step - loss: 1.1113 - accuracy: 0.6393 - val_loss: 1.1290 - val_accuracy: 0.6719\n",
            "Epoch 6/25\n",
            "15/15 [==============================] - 4s 273ms/step - loss: 1.0074 - accuracy: 0.6544 - val_loss: 1.0557 - val_accuracy: 0.7031\n",
            "Epoch 7/25\n",
            "15/15 [==============================] - 4s 275ms/step - loss: 0.9479 - accuracy: 0.6695 - val_loss: 0.9381 - val_accuracy: 0.7031\n",
            "Epoch 8/25\n",
            "15/15 [==============================] - 4s 273ms/step - loss: 0.8794 - accuracy: 0.6782 - val_loss: 0.8139 - val_accuracy: 0.7188\n",
            "Epoch 9/25\n",
            "15/15 [==============================] - 4s 270ms/step - loss: 0.8335 - accuracy: 0.6890 - val_loss: 0.8325 - val_accuracy: 0.7188\n",
            "Epoch 10/25\n",
            "15/15 [==============================] - 4s 268ms/step - loss: 0.7843 - accuracy: 0.6998 - val_loss: 0.7116 - val_accuracy: 0.7344\n",
            "Epoch 11/25\n",
            "15/15 [==============================] - 4s 282ms/step - loss: 0.7501 - accuracy: 0.7063 - val_loss: 0.6794 - val_accuracy: 0.7344\n",
            "Epoch 12/25\n",
            "15/15 [==============================] - 4s 268ms/step - loss: 0.7248 - accuracy: 0.7171 - val_loss: 0.6460 - val_accuracy: 0.7344\n",
            "Epoch 13/25\n",
            "15/15 [==============================] - 4s 272ms/step - loss: 0.7066 - accuracy: 0.7257 - val_loss: 0.6144 - val_accuracy: 0.7500\n",
            "Epoch 14/25\n",
            "15/15 [==============================] - 4s 271ms/step - loss: 0.6837 - accuracy: 0.7343 - val_loss: 0.5905 - val_accuracy: 0.7500\n",
            "Epoch 15/25\n",
            "15/15 [==============================] - 4s 274ms/step - loss: 0.6620 - accuracy: 0.7408 - val_loss: 0.5672 - val_accuracy: 0.7656\n",
            "Epoch 16/25\n",
            "15/15 [==============================] - 4s 269ms/step - loss: 0.6477 - accuracy: 0.7473 - val_loss: 0.5557 - val_accuracy: 0.7656\n",
            "Epoch 17/25\n",
            "15/15 [==============================] - 4s 268ms/step - loss: 0.6312 - accuracy: 0.7516 - val_loss: 0.5345 - val_accuracy: 0.7656\n",
            "Epoch 18/25\n",
            "15/15 [==============================] - 4s 269ms/step - loss: 0.6210 - accuracy: 0.7581 - val_loss: 0.5229 - val_accuracy: 0.7656\n",
            "Epoch 19/25\n",
            "15/15 [==============================] - 4s 267ms/step - loss: 0.6052 - accuracy: 0.7581 - val_loss: 0.5189 - val_accuracy: 0.7656\n",
            "Epoch 20/25\n",
            "15/15 [==============================] - 4s 269ms/step - loss: 0.5992 - accuracy: 0.7624 - val_loss: 0.5201 - val_accuracy: 0.7812\n",
            "Epoch 21/25\n",
            "15/15 [==============================] - 4s 273ms/step - loss: 0.5894 - accuracy: 0.7775 - val_loss: 0.5109 - val_accuracy: 0.7812\n",
            "Epoch 22/25\n",
            "15/15 [==============================] - 4s 269ms/step - loss: 0.5713 - accuracy: 0.7754 - val_loss: 0.5454 - val_accuracy: 0.7969\n",
            "Epoch 23/25\n",
            "15/15 [==============================] - 4s 272ms/step - loss: 0.5711 - accuracy: 0.7775 - val_loss: 0.5059 - val_accuracy: 0.7812\n",
            "Epoch 24/25\n",
            "15/15 [==============================] - 4s 274ms/step - loss: 0.5616 - accuracy: 0.7667 - val_loss: 0.4880 - val_accuracy: 0.7969\n",
            "Epoch 25/25\n",
            "15/15 [==============================] - 4s 274ms/step - loss: 0.5523 - accuracy: 0.7775 - val_loss: 0.4814 - val_accuracy: 0.7969\n"
          ],
          "name": "stdout"
        }
      ]
    },
    {
      "cell_type": "code",
      "metadata": {
        "id": "oiGNPEDi27wl",
        "colab": {
          "base_uri": "https://localhost:8080/",
          "height": 90
        },
        "outputId": "9249e580-9a59-4531-c70b-27e675be0806"
      },
      "source": [
        "print('Avg Training Accuracy: {:.2f}'.format(np.mean(history6.history['accuracy'])))\n",
        "print('Avg Validation Accuracy: {:.2f}'.format(np.mean(history6.history['val_accuracy'])))\n",
        "print('Avg Training Loss: {:.2f}'.format(np.mean(history6.history['loss'])))\n",
        "print('Avg Validation Loss: {:.2f}'.format(np.mean(history6.history['val_loss']))) ##performance metrics"
      ],
      "execution_count": null,
      "outputs": [
        {
          "output_type": "stream",
          "text": [
            "Avg Training Accuracy: 0.70\n",
            "Avg Validation Accuracy: 0.72\n",
            "Avg Training Loss: 0.85\n",
            "Avg Validation Loss: 0.80\n"
          ],
          "name": "stdout"
        }
      ]
    },
    {
      "cell_type": "code",
      "metadata": {
        "id": "wqZEsNMY3clH",
        "colab": {
          "base_uri": "https://localhost:8080/",
          "height": 297
        },
        "outputId": "0bcd9dff-b4a3-41bb-d658-f2144cf16efc"
      },
      "source": [
        "plt.plot(history6.history['loss'], label='train loss')\n",
        "plt.plot(history6.history['val_loss'], label='val loss')\n",
        "plt.xlabel(\"Epochs\")\n",
        "plt.ylabel(\"Loss\")\n",
        "plt.plot() ##plotting loss function\n",
        "plt.legend()\n",
        "plt.show()\n",
        "plt.savefig('LossVal_loss')"
      ],
      "execution_count": null,
      "outputs": [
        {
          "output_type": "display_data",
          "data": {
            "image/png": "[encoded data removed]",
            "text/plain": [
              "<Figure size 432x288 with 1 Axes>"
            ]
          },
          "metadata": {
            "tags": [],
            "needs_background": "light"
          }
        },
        {
          "output_type": "display_data",
          "data": {
            "text/plain": [
              "<Figure size 432x288 with 0 Axes>"
            ]
          },
          "metadata": {
            "tags": []
          }
        }
      ]
    },
    {
      "cell_type": "code",
      "metadata": {
        "id": "RL7Ejb09276P",
        "colab": {
          "base_uri": "https://localhost:8080/",
          "height": 297
        },
        "outputId": "98b2ba82-3c75-405f-909c-b9609429a2b1"
      },
      "source": [
        "plt.plot(history6.history['accuracy'], label='train acc')\n",
        "plt.plot(history6.history['val_accuracy'], label='val acc')\n",
        "plt.xlabel(\"Epochs\")\n",
        "plt.ylabel(\"Accuracy\")\n",
        "plt.legend()\n",
        "plt.show() ##plotting accuracy\n",
        "plt.savefig('AccVal_acc')"
      ],
      "execution_count": null,
      "outputs": [
        {
          "output_type": "display_data",
          "data": {
            "image/png": "[encoded data removed]",
            "text/plain": [
              "<Figure size 432x288 with 1 Axes>"
            ]
          },
          "metadata": {
            "tags": [],
            "needs_background": "light"
          }
        },
        {
          "output_type": "display_data",
          "data": {
            "text/plain": [
              "<Figure size 432x288 with 0 Axes>"
            ]
          },
          "metadata": {
            "tags": []
          }
        }
      ]
    },
    {
      "cell_type": "markdown",
      "metadata": {
        "id": "dD7vPsdd3qR4"
      },
      "source": [
        "Model 7 Optimizer 'SGD', Learning rate '0.0001'"
      ]
    },
    {
      "cell_type": "code",
      "metadata": {
        "id": "uk1Ns-nB3p1Y"
      },
      "source": [
        "model7 = Sequential()\n",
        "for layer in vgg_model.layers[:-1]:\n",
        "    model7.add(layer) ##loading all the layers ofthe pre-trained model to sequential model"
      ],
      "execution_count": null,
      "outputs": []
    },
    {
      "cell_type": "code",
      "metadata": {
        "id": "xbyo_Eq74Qre"
      },
      "source": [
        "for layer in model7.layers:\n",
        "    layer.trainable = False ##freezing all the layers to retain weights"
      ],
      "execution_count": null,
      "outputs": []
    },
    {
      "cell_type": "code",
      "metadata": {
        "id": "lT5o-e6p4RKd"
      },
      "source": [
        "model7.add(Dense(2, activation='softmax', kernel_initializer=initializers.RandomNormal(stddev=0.1, seed=0), bias_initializer=initializers.Zeros())) ##adding a fully connected dense layer with the 'softmax' activation"
      ],
      "execution_count": null,
      "outputs": []
    },
    {
      "cell_type": "code",
      "metadata": {
        "id": "M70xum_P4RSb"
      },
      "source": [
        "opt = keras.optimizers.SGD(learning_rate=0.0001)\n",
        "model7.compile(\n",
        "  loss='binary_crossentropy',\n",
        "  optimizer= opt,\n",
        "  metrics=['accuracy'] \n",
        ") ##SGD with learning rate 0.0001"
      ],
      "execution_count": null,
      "outputs": []
    },
    {
      "cell_type": "code",
      "metadata": {
        "id": "TJzCj4n24-pV",
        "colab": {
          "base_uri": "https://localhost:8080/",
          "height": 935
        },
        "outputId": "1797a541-2fed-4297-b5dd-5d3e5b0df63a"
      },
      "source": [
        "history7 = model7.fit_generator(training_set,\n",
        "                        epochs = 25,\n",
        "                        validation_data=val_set,\n",
        "                        shuffle = True) ##training and validation"
      ],
      "execution_count": null,
      "outputs": [
        {
          "output_type": "stream",
          "text": [
            "Epoch 1/25\n",
            "15/15 [==============================] - 4s 296ms/step - loss: 1.9918 - accuracy: 0.4795 - val_loss: 2.2364 - val_accuracy: 0.4844\n",
            "Epoch 2/25\n",
            "15/15 [==============================] - 4s 269ms/step - loss: 1.9245 - accuracy: 0.4903 - val_loss: 2.1671 - val_accuracy: 0.4844\n",
            "Epoch 3/25\n",
            "15/15 [==============================] - 4s 271ms/step - loss: 1.8610 - accuracy: 0.4968 - val_loss: 2.1050 - val_accuracy: 0.5000\n",
            "Epoch 4/25\n",
            "15/15 [==============================] - 4s 272ms/step - loss: 1.8020 - accuracy: 0.5162 - val_loss: 2.0349 - val_accuracy: 0.5000\n",
            "Epoch 5/25\n",
            "15/15 [==============================] - 4s 280ms/step - loss: 1.7447 - accuracy: 0.5292 - val_loss: 1.9560 - val_accuracy: 0.5156\n",
            "Epoch 6/25\n",
            "15/15 [==============================] - 4s 267ms/step - loss: 1.6926 - accuracy: 0.5378 - val_loss: 1.8858 - val_accuracy: 0.5156\n",
            "Epoch 7/25\n",
            "15/15 [==============================] - 4s 271ms/step - loss: 1.6381 - accuracy: 0.5335 - val_loss: 1.8345 - val_accuracy: 0.5469\n",
            "Epoch 8/25\n",
            "15/15 [==============================] - 4s 272ms/step - loss: 1.5854 - accuracy: 0.5464 - val_loss: 1.7637 - val_accuracy: 0.5312\n",
            "Epoch 9/25\n",
            "15/15 [==============================] - 4s 283ms/step - loss: 1.5394 - accuracy: 0.5529 - val_loss: 1.7068 - val_accuracy: 0.5625\n",
            "Epoch 10/25\n",
            "15/15 [==============================] - 4s 269ms/step - loss: 1.4916 - accuracy: 0.5529 - val_loss: 1.6541 - val_accuracy: 0.5625\n",
            "Epoch 11/25\n",
            "15/15 [==============================] - 4s 268ms/step - loss: 1.4497 - accuracy: 0.5680 - val_loss: 1.6062 - val_accuracy: 0.5625\n",
            "Epoch 12/25\n",
            "15/15 [==============================] - 4s 271ms/step - loss: 1.4100 - accuracy: 0.5832 - val_loss: 1.5592 - val_accuracy: 0.5625\n",
            "Epoch 13/25\n",
            "15/15 [==============================] - 4s 270ms/step - loss: 1.3727 - accuracy: 0.5896 - val_loss: 1.5180 - val_accuracy: 0.5625\n",
            "Epoch 14/25\n",
            "15/15 [==============================] - 4s 270ms/step - loss: 1.3378 - accuracy: 0.5940 - val_loss: 1.4730 - val_accuracy: 0.5625\n",
            "Epoch 15/25\n",
            "15/15 [==============================] - 4s 275ms/step - loss: 1.3013 - accuracy: 0.6069 - val_loss: 1.4098 - val_accuracy: 0.5781\n",
            "Epoch 16/25\n",
            "15/15 [==============================] - 4s 271ms/step - loss: 1.2742 - accuracy: 0.5896 - val_loss: 1.3779 - val_accuracy: 0.5781\n",
            "Epoch 17/25\n",
            "15/15 [==============================] - 4s 288ms/step - loss: 1.2420 - accuracy: 0.6091 - val_loss: 1.3410 - val_accuracy: 0.5938\n",
            "Epoch 18/25\n",
            "15/15 [==============================] - 4s 284ms/step - loss: 1.2130 - accuracy: 0.6156 - val_loss: 1.3002 - val_accuracy: 0.6094\n",
            "Epoch 19/25\n",
            "15/15 [==============================] - 4s 277ms/step - loss: 1.1867 - accuracy: 0.6199 - val_loss: 1.2752 - val_accuracy: 0.6094\n",
            "Epoch 20/25\n",
            "15/15 [==============================] - 4s 271ms/step - loss: 1.1608 - accuracy: 0.6328 - val_loss: 1.2414 - val_accuracy: 0.6094\n",
            "Epoch 21/25\n",
            "15/15 [==============================] - 4s 271ms/step - loss: 1.1368 - accuracy: 0.6328 - val_loss: 1.2154 - val_accuracy: 0.6094\n",
            "Epoch 22/25\n",
            "15/15 [==============================] - 4s 272ms/step - loss: 1.1131 - accuracy: 0.6436 - val_loss: 1.1896 - val_accuracy: 0.6250\n",
            "Epoch 23/25\n",
            "15/15 [==============================] - 4s 272ms/step - loss: 1.0927 - accuracy: 0.6479 - val_loss: 1.1557 - val_accuracy: 0.6406\n",
            "Epoch 24/25\n",
            "15/15 [==============================] - 4s 271ms/step - loss: 1.0721 - accuracy: 0.6501 - val_loss: 1.1303 - val_accuracy: 0.6406\n",
            "Epoch 25/25\n",
            "15/15 [==============================] - 4s 274ms/step - loss: 1.0552 - accuracy: 0.6501 - val_loss: 1.1118 - val_accuracy: 0.6719\n"
          ],
          "name": "stdout"
        }
      ]
    },
    {
      "cell_type": "code",
      "metadata": {
        "id": "PDAPx0ez4_SL",
        "colab": {
          "base_uri": "https://localhost:8080/",
          "height": 90
        },
        "outputId": "90caa873-78e0-4d7d-c82f-59e94243b68d"
      },
      "source": [
        "print('Avg Training Accuracy: {:.2f}'.format(np.mean(history7.history['accuracy'])))\n",
        "print('Avg Validation Accuracy: {:.2f}'.format(np.mean(history7.history['val_accuracy'])))\n",
        "print('Avg Training Loss: {:.2f}'.format(np.mean(history7.history['loss'])))\n",
        "print('Avg Validation Loss: {:.2f}'.format(np.mean(history7.history['val_loss']))) ##performance metrics"
      ],
      "execution_count": null,
      "outputs": [
        {
          "output_type": "stream",
          "text": [
            "Avg Training Accuracy: 0.58\n",
            "Avg Validation Accuracy: 0.57\n",
            "Avg Training Loss: 1.43\n",
            "Avg Validation Loss: 1.57\n"
          ],
          "name": "stdout"
        }
      ]
    },
    {
      "cell_type": "code",
      "metadata": {
        "id": "Wv5QMa4O4_ht",
        "colab": {
          "base_uri": "https://localhost:8080/",
          "height": 297
        },
        "outputId": "0a4d57e2-bb9a-4dd3-c00f-370a2c470907"
      },
      "source": [
        "plt.plot(history7.history['loss'], label='train loss')\n",
        "plt.plot(history7.history['val_loss'], label='val loss')\n",
        "plt.xlabel(\"Epochs\")\n",
        "plt.ylabel(\"Loss\")\n",
        "plt.plot()\n",
        "plt.legend()\n",
        "plt.show() ##plotting loss function\n",
        "plt.savefig('LossVal_loss')"
      ],
      "execution_count": null,
      "outputs": [
        {
          "output_type": "display_data",
          "data": {
            "image/png": "[encoded data removed]",
            "text/plain": [
              "<Figure size 432x288 with 1 Axes>"
            ]
          },
          "metadata": {
            "tags": [],
            "needs_background": "light"
          }
        },
        {
          "output_type": "display_data",
          "data": {
            "text/plain": [
              "<Figure size 432x288 with 0 Axes>"
            ]
          },
          "metadata": {
            "tags": []
          }
        }
      ]
    },
    {
      "cell_type": "code",
      "metadata": {
        "id": "yRPWww9H4UEq",
        "colab": {
          "base_uri": "https://localhost:8080/",
          "height": 297
        },
        "outputId": "ac542d08-506a-4b58-9a85-90eb091174b6"
      },
      "source": [
        "plt.plot(history7.history['accuracy'], label='train acc')\n",
        "plt.plot(history7.history['val_accuracy'], label='val acc')\n",
        "plt.xlabel(\"Epochs\")\n",
        "plt.ylabel(\"Accuracy\")\n",
        "plt.legend()\n",
        "plt.show() ##plotting accuracy\n",
        "plt.savefig('AccVal_acc')"
      ],
      "execution_count": null,
      "outputs": [
        {
          "output_type": "display_data",
          "data": {
            "image/png": "[encoded data removed]",
            "text/plain": [
              "<Figure size 432x288 with 1 Axes>"
            ]
          },
          "metadata": {
            "tags": [],
            "needs_background": "light"
          }
        },
        {
          "output_type": "display_data",
          "data": {
            "text/plain": [
              "<Figure size 432x288 with 0 Axes>"
            ]
          },
          "metadata": {
            "tags": []
          }
        }
      ]
    },
    {
      "cell_type": "markdown",
      "metadata": {
        "id": "bGjY62Kg6wQL"
      },
      "source": [
        "## Optimizer 'Adadelta'"
      ]
    },
    {
      "cell_type": "code",
      "metadata": {
        "id": "lhwp9aR_7_YR"
      },
      "source": [
        ""
      ],
      "execution_count": null,
      "outputs": []
    },
    {
      "cell_type": "markdown",
      "metadata": {
        "id": "DCzdXsKT8AMQ"
      },
      "source": [
        "Model 8 Optimizer 'Adadelta', Learning rate '0.1'"
      ]
    },
    {
      "cell_type": "code",
      "metadata": {
        "id": "FCmq-URX6vSj"
      },
      "source": [
        "model8 = Sequential()\n",
        "for layer in vgg_model.layers[:-1]:\n",
        "    model8.add(layer) ##loading all the layers of pre-trained model into the sequential model"
      ],
      "execution_count": null,
      "outputs": []
    },
    {
      "cell_type": "code",
      "metadata": {
        "id": "lDdufGo9yda4"
      },
      "source": [
        "for layer in model8.layers:\n",
        "    layer.trainable = False ##freezing all the layers to retain weights"
      ],
      "execution_count": null,
      "outputs": []
    },
    {
      "cell_type": "code",
      "metadata": {
        "id": "jbGlbNsuy76c"
      },
      "source": [
        "model8.add(Dense(2, activation='softmax', kernel_initializer=initializers.RandomNormal(stddev=0.1, seed=0), bias_initializer=initializers.Zeros())) ##adding a fully connected dense layer with softmax activation"
      ],
      "execution_count": null,
      "outputs": []
    },
    {
      "cell_type": "code",
      "metadata": {
        "id": "WvFxk5oa1GbZ"
      },
      "source": [
        "opt = keras.optimizers.Adadelta(learning_rate=0.1)\n",
        "model8.compile(\n",
        "  loss='binary_crossentropy',\n",
        "  optimizer= opt,\n",
        "  metrics=['accuracy']  ##Adadelta optimizer with 0.1\n",
        ")"
      ],
      "execution_count": null,
      "outputs": []
    },
    {
      "cell_type": "code",
      "metadata": {
        "id": "ZrZGg8Qm1nA3",
        "colab": {
          "base_uri": "https://localhost:8080/",
          "height": 935
        },
        "outputId": "833951bf-43f2-4b60-c736-029cd50faebd"
      },
      "source": [
        "history8 = model8.fit_generator(training_set,\n",
        "                        epochs = 25,\n",
        "                        validation_data=val_set,\n",
        "                        shuffle = True) ##training and validation"
      ],
      "execution_count": null,
      "outputs": [
        {
          "output_type": "stream",
          "text": [
            "Epoch 1/25\n",
            "15/15 [==============================] - 4s 292ms/step - loss: 1.8444 - accuracy: 0.5011 - val_loss: 1.8019 - val_accuracy: 0.5156\n",
            "Epoch 2/25\n",
            "15/15 [==============================] - 4s 267ms/step - loss: 1.5065 - accuracy: 0.5486 - val_loss: 1.5408 - val_accuracy: 0.5625\n",
            "Epoch 3/25\n",
            "15/15 [==============================] - 4s 279ms/step - loss: 1.2762 - accuracy: 0.6026 - val_loss: 1.2385 - val_accuracy: 0.6250\n",
            "Epoch 4/25\n",
            "15/15 [==============================] - 4s 269ms/step - loss: 1.1081 - accuracy: 0.6415 - val_loss: 1.0576 - val_accuracy: 0.6562\n",
            "Epoch 5/25\n",
            "15/15 [==============================] - 4s 271ms/step - loss: 0.9876 - accuracy: 0.6631 - val_loss: 0.9775 - val_accuracy: 0.7031\n",
            "Epoch 6/25\n",
            "15/15 [==============================] - 4s 265ms/step - loss: 0.8970 - accuracy: 0.6803 - val_loss: 0.8181 - val_accuracy: 0.7031\n",
            "Epoch 7/25\n",
            "15/15 [==============================] - 4s 276ms/step - loss: 0.8242 - accuracy: 0.7041 - val_loss: 0.7724 - val_accuracy: 0.7031\n",
            "Epoch 8/25\n",
            "15/15 [==============================] - 4s 272ms/step - loss: 0.7625 - accuracy: 0.7257 - val_loss: 0.6724 - val_accuracy: 0.7500\n",
            "Epoch 9/25\n",
            "15/15 [==============================] - 4s 269ms/step - loss: 0.7239 - accuracy: 0.7279 - val_loss: 0.6213 - val_accuracy: 0.7500\n",
            "Epoch 10/25\n",
            "15/15 [==============================] - 4s 277ms/step - loss: 0.6844 - accuracy: 0.7322 - val_loss: 0.5981 - val_accuracy: 0.7500\n",
            "Epoch 11/25\n",
            "15/15 [==============================] - 4s 274ms/step - loss: 0.6429 - accuracy: 0.7516 - val_loss: 0.5560 - val_accuracy: 0.7500\n",
            "Epoch 12/25\n",
            "15/15 [==============================] - 4s 274ms/step - loss: 0.6193 - accuracy: 0.7538 - val_loss: 0.5727 - val_accuracy: 0.7812\n",
            "Epoch 13/25\n",
            "15/15 [==============================] - 4s 273ms/step - loss: 0.5988 - accuracy: 0.7581 - val_loss: 0.5660 - val_accuracy: 0.7812\n",
            "Epoch 14/25\n",
            "15/15 [==============================] - 4s 270ms/step - loss: 0.5882 - accuracy: 0.7905 - val_loss: 0.5262 - val_accuracy: 0.7969\n",
            "Epoch 15/25\n",
            "15/15 [==============================] - 4s 270ms/step - loss: 0.5652 - accuracy: 0.7819 - val_loss: 0.4963 - val_accuracy: 0.7812\n",
            "Epoch 16/25\n",
            "15/15 [==============================] - 4s 270ms/step - loss: 0.5477 - accuracy: 0.7862 - val_loss: 0.4797 - val_accuracy: 0.7812\n",
            "Epoch 17/25\n",
            "15/15 [==============================] - 4s 270ms/step - loss: 0.5331 - accuracy: 0.7927 - val_loss: 0.4748 - val_accuracy: 0.7812\n",
            "Epoch 18/25\n",
            "15/15 [==============================] - 4s 270ms/step - loss: 0.5138 - accuracy: 0.7905 - val_loss: 0.4649 - val_accuracy: 0.7969\n",
            "Epoch 19/25\n",
            "15/15 [==============================] - 4s 272ms/step - loss: 0.4994 - accuracy: 0.7883 - val_loss: 0.4558 - val_accuracy: 0.8125\n",
            "Epoch 20/25\n",
            "15/15 [==============================] - 4s 272ms/step - loss: 0.4953 - accuracy: 0.7970 - val_loss: 0.4569 - val_accuracy: 0.8125\n",
            "Epoch 21/25\n",
            "15/15 [==============================] - 4s 271ms/step - loss: 0.4853 - accuracy: 0.8143 - val_loss: 0.4316 - val_accuracy: 0.8125\n",
            "Epoch 22/25\n",
            "15/15 [==============================] - 4s 272ms/step - loss: 0.4650 - accuracy: 0.8164 - val_loss: 0.4509 - val_accuracy: 0.7969\n",
            "Epoch 23/25\n",
            "15/15 [==============================] - 4s 271ms/step - loss: 0.4585 - accuracy: 0.8186 - val_loss: 0.4306 - val_accuracy: 0.8125\n",
            "Epoch 24/25\n",
            "15/15 [==============================] - 4s 271ms/step - loss: 0.4495 - accuracy: 0.8121 - val_loss: 0.4184 - val_accuracy: 0.8281\n",
            "Epoch 25/25\n",
            "15/15 [==============================] - 4s 269ms/step - loss: 0.4352 - accuracy: 0.8229 - val_loss: 0.4121 - val_accuracy: 0.8438\n"
          ],
          "name": "stdout"
        }
      ]
    },
    {
      "cell_type": "code",
      "metadata": {
        "id": "lpiLNxaq7vd5",
        "colab": {
          "base_uri": "https://localhost:8080/",
          "height": 90
        },
        "outputId": "2be61fde-78cf-47ea-cc3a-776547e303b0"
      },
      "source": [
        "print('Avg Training Accuracy: {:.2f}'.format(np.mean(history8.history['accuracy'])))\n",
        "print('Avg Validation Accuracy: {:.2f}'.format(np.mean(history8.history['val_accuracy'])))\n",
        "print('Avg Training Loss: {:.2f}'.format(np.mean(history8.history['loss'])))\n",
        "print('Avg Validation Loss: {:.2f}'.format(np.mean(history8.history['val_loss']))) ##performance metrics"
      ],
      "execution_count": null,
      "outputs": [
        {
          "output_type": "stream",
          "text": [
            "Avg Training Accuracy: 0.74\n",
            "Avg Validation Accuracy: 0.75\n",
            "Avg Training Loss: 0.74\n",
            "Avg Validation Loss: 0.69\n"
          ],
          "name": "stdout"
        }
      ]
    },
    {
      "cell_type": "code",
      "metadata": {
        "id": "6IbWQSmf1PMr",
        "colab": {
          "base_uri": "https://localhost:8080/",
          "height": 297
        },
        "outputId": "32ebc8b4-5020-480b-f75c-daa9abcea605"
      },
      "source": [
        "plt.plot(history8.history['loss'], label='train loss')\n",
        "plt.plot(history8.history['val_loss'], label='val loss')\n",
        "plt.xlabel(\"Epochs\")\n",
        "plt.ylabel(\"Loss\")\n",
        "plt.plot()\n",
        "plt.legend()\n",
        "plt.show() ##plotting loss function\n",
        "plt.savefig('LossVal_loss')"
      ],
      "execution_count": null,
      "outputs": [
        {
          "output_type": "display_data",
          "data": {
            "image/png": "[encoded data removed]",
            "text/plain": [
              "<Figure size 432x288 with 1 Axes>"
            ]
          },
          "metadata": {
            "tags": [],
            "needs_background": "light"
          }
        },
        {
          "output_type": "display_data",
          "data": {
            "text/plain": [
              "<Figure size 432x288 with 0 Axes>"
            ]
          },
          "metadata": {
            "tags": []
          }
        }
      ]
    },
    {
      "cell_type": "code",
      "metadata": {
        "id": "ZyACA-21PGDf",
        "colab": {
          "base_uri": "https://localhost:8080/",
          "height": 297
        },
        "outputId": "fef7bd34-4541-4816-9c39-0b201c1043cc"
      },
      "source": [
        "plt.plot(history8.history['accuracy'], label='train acc')\n",
        "plt.plot(history8.history['val_accuracy'], label='val acc')\n",
        "plt.xlabel(\"Epochs\")\n",
        "plt.ylabel(\"Accuracy\")\n",
        "plt.legend()\n",
        "plt.show() ##plotting accuracy\n",
        "plt.savefig('AccVal_acc')"
      ],
      "execution_count": null,
      "outputs": [
        {
          "output_type": "display_data",
          "data": {
            "image/png": "[encoded data removed]",
            "text/plain": [
              "<Figure size 432x288 with 1 Axes>"
            ]
          },
          "metadata": {
            "tags": [],
            "needs_background": "light"
          }
        },
        {
          "output_type": "display_data",
          "data": {
            "text/plain": [
              "<Figure size 432x288 with 0 Axes>"
            ]
          },
          "metadata": {
            "tags": []
          }
        }
      ]
    },
    {
      "cell_type": "markdown",
      "metadata": {
        "id": "xnx3nclzBy7I"
      },
      "source": [
        "Model 9 Optimizer 'Adadelta', Learning rate '0.05'"
      ]
    },
    {
      "cell_type": "code",
      "metadata": {
        "id": "CUfj16CL4UJr"
      },
      "source": [
        "model9 = Sequential()\n",
        "for layer in vgg_model.layers[:-1]:\n",
        "    model9.add(layer) ##loading all the layers of pre-train"
      ],
      "execution_count": null,
      "outputs": []
    },
    {
      "cell_type": "code",
      "metadata": {
        "id": "4qrw-rw5B9Vd"
      },
      "source": [
        "for layer in model9.layers:\n",
        "    layer.trainable = False ##freezing all the layers to retain weight"
      ],
      "execution_count": null,
      "outputs": []
    },
    {
      "cell_type": "code",
      "metadata": {
        "id": "TUc9IfdoB9rW"
      },
      "source": [
        "model9.add(Dense(2, activation='softmax', kernel_initializer=initializers.RandomNormal(stddev=0.1, seed=0), bias_initializer=initializers.Zeros()))"
      ],
      "execution_count": null,
      "outputs": []
    },
    {
      "cell_type": "code",
      "metadata": {
        "id": "fZxYtyqcB94y"
      },
      "source": [
        "opt = keras.optimizers.Adadelta(learning_rate=0.05)\n",
        "model9.compile(\n",
        "  loss='binary_crossentropy',\n",
        "  optimizer= opt,\n",
        "  metrics=['accuracy'] \n",
        ") ##Adadelta optimizer with learning rate 0.05"
      ],
      "execution_count": null,
      "outputs": []
    },
    {
      "cell_type": "code",
      "metadata": {
        "id": "cdFYbAb3B-FQ",
        "colab": {
          "base_uri": "https://localhost:8080/",
          "height": 935
        },
        "outputId": "b8773987-3546-4451-9250-477634521f81"
      },
      "source": [
        "history9 = model9.fit_generator(training_set,\n",
        "                        epochs = 25,\n",
        "                        validation_data=val_set,\n",
        "                        shuffle = True) ##training and validation"
      ],
      "execution_count": null,
      "outputs": [
        {
          "output_type": "stream",
          "text": [
            "Epoch 1/25\n",
            "15/15 [==============================] - 4s 293ms/step - loss: 1.9547 - accuracy: 0.4816 - val_loss: 2.1426 - val_accuracy: 0.5000\n",
            "Epoch 2/25\n",
            "15/15 [==============================] - 4s 272ms/step - loss: 1.7907 - accuracy: 0.5140 - val_loss: 1.9601 - val_accuracy: 0.5156\n",
            "Epoch 3/25\n",
            "15/15 [==============================] - 4s 271ms/step - loss: 1.6424 - accuracy: 0.5335 - val_loss: 1.7541 - val_accuracy: 0.5312\n",
            "Epoch 4/25\n",
            "15/15 [==============================] - 4s 273ms/step - loss: 1.5109 - accuracy: 0.5529 - val_loss: 1.6248 - val_accuracy: 0.5625\n",
            "Epoch 5/25\n",
            "15/15 [==============================] - 4s 268ms/step - loss: 1.3975 - accuracy: 0.5832 - val_loss: 1.4948 - val_accuracy: 0.5625\n",
            "Epoch 6/25\n",
            "15/15 [==============================] - 4s 272ms/step - loss: 1.3036 - accuracy: 0.6048 - val_loss: 1.3758 - val_accuracy: 0.5781\n",
            "Epoch 7/25\n",
            "15/15 [==============================] - 4s 275ms/step - loss: 1.2193 - accuracy: 0.6242 - val_loss: 1.2532 - val_accuracy: 0.6094\n",
            "Epoch 8/25\n",
            "15/15 [==============================] - 4s 270ms/step - loss: 1.1440 - accuracy: 0.6393 - val_loss: 1.1597 - val_accuracy: 0.6250\n",
            "Epoch 9/25\n",
            "15/15 [==============================] - 4s 269ms/step - loss: 1.0759 - accuracy: 0.6458 - val_loss: 1.0864 - val_accuracy: 0.6562\n",
            "Epoch 10/25\n",
            "15/15 [==============================] - 4s 267ms/step - loss: 1.0194 - accuracy: 0.6523 - val_loss: 1.0064 - val_accuracy: 0.6562\n",
            "Epoch 11/25\n",
            "15/15 [==============================] - 4s 269ms/step - loss: 0.9653 - accuracy: 0.6609 - val_loss: 0.9654 - val_accuracy: 0.7031\n",
            "Epoch 12/25\n",
            "15/15 [==============================] - 4s 272ms/step - loss: 0.9231 - accuracy: 0.6739 - val_loss: 0.8920 - val_accuracy: 0.7031\n",
            "Epoch 13/25\n",
            "15/15 [==============================] - 4s 265ms/step - loss: 0.8841 - accuracy: 0.6847 - val_loss: 0.8226 - val_accuracy: 0.7031\n",
            "Epoch 14/25\n",
            "15/15 [==============================] - 4s 268ms/step - loss: 0.8451 - accuracy: 0.6890 - val_loss: 0.7947 - val_accuracy: 0.7031\n",
            "Epoch 15/25\n",
            "15/15 [==============================] - 4s 271ms/step - loss: 0.8129 - accuracy: 0.6911 - val_loss: 0.7365 - val_accuracy: 0.7188\n",
            "Epoch 16/25\n",
            "15/15 [==============================] - 4s 270ms/step - loss: 0.7841 - accuracy: 0.7192 - val_loss: 0.6912 - val_accuracy: 0.7500\n",
            "Epoch 17/25\n",
            "15/15 [==============================] - 4s 270ms/step - loss: 0.7560 - accuracy: 0.7192 - val_loss: 0.7015 - val_accuracy: 0.7188\n",
            "Epoch 18/25\n",
            "15/15 [==============================] - 4s 281ms/step - loss: 0.7374 - accuracy: 0.7235 - val_loss: 0.6604 - val_accuracy: 0.7500\n",
            "Epoch 19/25\n",
            "15/15 [==============================] - 4s 270ms/step - loss: 0.7142 - accuracy: 0.7343 - val_loss: 0.6198 - val_accuracy: 0.7500\n",
            "Epoch 20/25\n",
            "15/15 [==============================] - 4s 271ms/step - loss: 0.6888 - accuracy: 0.7257 - val_loss: 0.6288 - val_accuracy: 0.7656\n",
            "Epoch 21/25\n",
            "15/15 [==============================] - 4s 274ms/step - loss: 0.6736 - accuracy: 0.7451 - val_loss: 0.6116 - val_accuracy: 0.7812\n",
            "Epoch 22/25\n",
            "15/15 [==============================] - 4s 273ms/step - loss: 0.6597 - accuracy: 0.7408 - val_loss: 0.5707 - val_accuracy: 0.7500\n",
            "Epoch 23/25\n",
            "15/15 [==============================] - 4s 272ms/step - loss: 0.6463 - accuracy: 0.7451 - val_loss: 0.5563 - val_accuracy: 0.7500\n",
            "Epoch 24/25\n",
            "15/15 [==============================] - 4s 269ms/step - loss: 0.6311 - accuracy: 0.7538 - val_loss: 0.5429 - val_accuracy: 0.7656\n",
            "Epoch 25/25\n",
            "15/15 [==============================] - 4s 269ms/step - loss: 0.6174 - accuracy: 0.7516 - val_loss: 0.5169 - val_accuracy: 0.7656\n"
          ],
          "name": "stdout"
        }
      ]
    },
    {
      "cell_type": "code",
      "metadata": {
        "id": "elmSVaD0B-cI",
        "colab": {
          "base_uri": "https://localhost:8080/",
          "height": 90
        },
        "outputId": "87705bb7-ba58-4b9d-890a-06d8b9d361b8"
      },
      "source": [
        "print('Avg Training Accuracy: {:.2f}'.format(np.mean(history9.history['accuracy'])))\n",
        "print('Avg Validation Accuracy: {:.2f}'.format(np.mean(history9.history['val_accuracy'])))\n",
        "print('Avg Training Loss: {:.2f}'.format(np.mean(history9.history['loss'])))\n",
        "print('Avg Validation Loss: {:.2f}'.format(np.mean(history9.history['val_loss']))) ##performance metrics"
      ],
      "execution_count": null,
      "outputs": [
        {
          "output_type": "stream",
          "text": [
            "Avg Training Accuracy: 0.66\n",
            "Avg Validation Accuracy: 0.68\n",
            "Avg Training Loss: 1.02\n",
            "Avg Validation Loss: 1.01\n"
          ],
          "name": "stdout"
        }
      ]
    },
    {
      "cell_type": "code",
      "metadata": {
        "id": "V9utwMN1B-2H",
        "colab": {
          "base_uri": "https://localhost:8080/",
          "height": 298
        },
        "outputId": "8b53a0fb-a31a-48dc-f9a3-80f6a5848ccb"
      },
      "source": [
        "plt.plot(history9.history['loss'], label='train loss')\n",
        "plt.plot(history9.history['val_loss'], label='val loss')\n",
        "plt.xlabel(\"Epochs\")\n",
        "plt.ylabel(\"Loss\")\n",
        "plt.plot() ##plotting loss function\n",
        "plt.legend()\n",
        "plt.show()\n",
        "plt.savefig('LossVal_loss')"
      ],
      "execution_count": null,
      "outputs": [
        {
          "output_type": "display_data",
          "data": {
            "image/png": "[encoded data removed]",
            "text/plain": [
              "<Figure size 432x288 with 1 Axes>"
            ]
          },
          "metadata": {
            "tags": [],
            "needs_background": "light"
          }
        },
        {
          "output_type": "display_data",
          "data": {
            "text/plain": [
              "<Figure size 432x288 with 0 Axes>"
            ]
          },
          "metadata": {
            "tags": []
          }
        }
      ]
    },
    {
      "cell_type": "code",
      "metadata": {
        "id": "ExDYnKBRB_Cs",
        "colab": {
          "base_uri": "https://localhost:8080/",
          "height": 297
        },
        "outputId": "39eec7c7-5979-4c02-db69-9078a7d1a539"
      },
      "source": [
        "plt.plot(history9.history['accuracy'], label='train acc')\n",
        "plt.plot(history9.history['val_accuracy'], label='val acc')\n",
        "plt.xlabel(\"Epochs\")\n",
        "plt.ylabel(\"Accuracy\")\n",
        "plt.legend()\n",
        "plt.show() ##plotting accuracy\n",
        "plt.savefig('AccVal_acc')"
      ],
      "execution_count": null,
      "outputs": [
        {
          "output_type": "display_data",
          "data": {
            "image/png": "[encoded data removed]",
            "text/plain": [
              "<Figure size 432x288 with 1 Axes>"
            ]
          },
          "metadata": {
            "tags": [],
            "needs_background": "light"
          }
        },
        {
          "output_type": "display_data",
          "data": {
            "text/plain": [
              "<Figure size 432x288 with 0 Axes>"
            ]
          },
          "metadata": {
            "tags": []
          }
        }
      ]
    },
    {
      "cell_type": "markdown",
      "metadata": {
        "id": "0CnSZd_DEMBE"
      },
      "source": [
        "Model 10 Optimizer 'Adadelta', Learning rate '0.01'"
      ]
    },
    {
      "cell_type": "code",
      "metadata": {
        "id": "7hD6fkujB_ax"
      },
      "source": [
        "model10 = Sequential()\n",
        "for layer in vgg_model.layers[:-1]:\n",
        "    model10.add(layer) ##loading all the layers of the pre-trained model to the sequential model"
      ],
      "execution_count": null,
      "outputs": []
    },
    {
      "cell_type": "code",
      "metadata": {
        "id": "04My7qlKB_ll"
      },
      "source": [
        "for layer in model10.layers:\n",
        "    layer.trainable = False ##freezing all the layers to retain weights"
      ],
      "execution_count": null,
      "outputs": []
    },
    {
      "cell_type": "code",
      "metadata": {
        "id": "acIffvWkB_xx"
      },
      "source": [
        "model10.add(Dense(2, activation='softmax', kernel_initializer=initializers.RandomNormal(stddev=0.1, seed=0), bias_initializer=initializers.Zeros())) ##adding a fully connected dense layer with softmax activation"
      ],
      "execution_count": null,
      "outputs": []
    },
    {
      "cell_type": "code",
      "metadata": {
        "id": "xle8uWMbB_8D"
      },
      "source": [
        "opt = keras.optimizers.Adadelta(learning_rate=0.01)\n",
        "model10.compile(\n",
        "  loss='binary_crossentropy',\n",
        "  optimizer= opt,\n",
        "  metrics=['accuracy'] \n",
        ") ##Adadelta with learning rate 0.01"
      ],
      "execution_count": null,
      "outputs": []
    },
    {
      "cell_type": "code",
      "metadata": {
        "id": "dBwwVF0xCAHI",
        "colab": {
          "base_uri": "https://localhost:8080/",
          "height": 935
        },
        "outputId": "8000b670-fdc1-4086-f886-3f49204f5813"
      },
      "source": [
        "history10 = model10.fit_generator(training_set,\n",
        "                        epochs = 25,\n",
        "                        validation_data=val_set,\n",
        "                        shuffle = True) ##training and validation"
      ],
      "execution_count": null,
      "outputs": [
        {
          "output_type": "stream",
          "text": [
            "Epoch 1/25\n",
            "15/15 [==============================] - 4s 292ms/step - loss: 2.0074 - accuracy: 0.4816 - val_loss: 2.2641 - val_accuracy: 0.4688\n",
            "Epoch 2/25\n",
            "15/15 [==============================] - 4s 269ms/step - loss: 1.9682 - accuracy: 0.4860 - val_loss: 2.2267 - val_accuracy: 0.4844\n",
            "Epoch 3/25\n",
            "15/15 [==============================] - 4s 270ms/step - loss: 1.9319 - accuracy: 0.4946 - val_loss: 2.1925 - val_accuracy: 0.4844\n",
            "Epoch 4/25\n",
            "15/15 [==============================] - 4s 269ms/step - loss: 1.8975 - accuracy: 0.4946 - val_loss: 2.1603 - val_accuracy: 0.5000\n",
            "Epoch 5/25\n",
            "15/15 [==============================] - 4s 270ms/step - loss: 1.8647 - accuracy: 0.4946 - val_loss: 2.1218 - val_accuracy: 0.5000\n",
            "Epoch 6/25\n",
            "15/15 [==============================] - 4s 270ms/step - loss: 1.8324 - accuracy: 0.5054 - val_loss: 2.0858 - val_accuracy: 0.5156\n",
            "Epoch 7/25\n",
            "15/15 [==============================] - 4s 269ms/step - loss: 1.7994 - accuracy: 0.5097 - val_loss: 2.0477 - val_accuracy: 0.5156\n",
            "Epoch 8/25\n",
            "15/15 [==============================] - 4s 272ms/step - loss: 1.7674 - accuracy: 0.5227 - val_loss: 2.0092 - val_accuracy: 0.5156\n",
            "Epoch 9/25\n",
            "15/15 [==============================] - 4s 269ms/step - loss: 1.7366 - accuracy: 0.5227 - val_loss: 1.9710 - val_accuracy: 0.5156\n",
            "Epoch 10/25\n",
            "15/15 [==============================] - 4s 272ms/step - loss: 1.7045 - accuracy: 0.5292 - val_loss: 1.9318 - val_accuracy: 0.5156\n",
            "Epoch 11/25\n",
            "15/15 [==============================] - 4s 280ms/step - loss: 1.6749 - accuracy: 0.5313 - val_loss: 1.8961 - val_accuracy: 0.5156\n",
            "Epoch 12/25\n",
            "15/15 [==============================] - 4s 286ms/step - loss: 1.6451 - accuracy: 0.5378 - val_loss: 1.8595 - val_accuracy: 0.5156\n",
            "Epoch 13/25\n",
            "15/15 [==============================] - 4s 278ms/step - loss: 1.6154 - accuracy: 0.5378 - val_loss: 1.8227 - val_accuracy: 0.5156\n",
            "Epoch 14/25\n",
            "15/15 [==============================] - 4s 273ms/step - loss: 1.5890 - accuracy: 0.5400 - val_loss: 1.7868 - val_accuracy: 0.5312\n",
            "Epoch 15/25\n",
            "15/15 [==============================] - 4s 274ms/step - loss: 1.5614 - accuracy: 0.5443 - val_loss: 1.7529 - val_accuracy: 0.5312\n",
            "Epoch 16/25\n",
            "15/15 [==============================] - 4s 270ms/step - loss: 1.5341 - accuracy: 0.5508 - val_loss: 1.7218 - val_accuracy: 0.5625\n",
            "Epoch 17/25\n",
            "15/15 [==============================] - 4s 270ms/step - loss: 1.5096 - accuracy: 0.5551 - val_loss: 1.6906 - val_accuracy: 0.5625\n",
            "Epoch 18/25\n",
            "15/15 [==============================] - 4s 270ms/step - loss: 1.4857 - accuracy: 0.5572 - val_loss: 1.6583 - val_accuracy: 0.5625\n",
            "Epoch 19/25\n",
            "15/15 [==============================] - 4s 274ms/step - loss: 1.4592 - accuracy: 0.5637 - val_loss: 1.6268 - val_accuracy: 0.5625\n",
            "Epoch 20/25\n",
            "15/15 [==============================] - 4s 271ms/step - loss: 1.4358 - accuracy: 0.5767 - val_loss: 1.5967 - val_accuracy: 0.5625\n",
            "Epoch 21/25\n",
            "15/15 [==============================] - 4s 271ms/step - loss: 1.4120 - accuracy: 0.5810 - val_loss: 1.5663 - val_accuracy: 0.5625\n",
            "Epoch 22/25\n",
            "15/15 [==============================] - 4s 267ms/step - loss: 1.3889 - accuracy: 0.5832 - val_loss: 1.5384 - val_accuracy: 0.5625\n",
            "Epoch 23/25\n",
            "15/15 [==============================] - 4s 272ms/step - loss: 1.3668 - accuracy: 0.5875 - val_loss: 1.5131 - val_accuracy: 0.5625\n",
            "Epoch 24/25\n",
            "15/15 [==============================] - 4s 274ms/step - loss: 1.3451 - accuracy: 0.5918 - val_loss: 1.4848 - val_accuracy: 0.5625\n",
            "Epoch 25/25\n",
            "15/15 [==============================] - 4s 272ms/step - loss: 1.3228 - accuracy: 0.5940 - val_loss: 1.4553 - val_accuracy: 0.5625\n"
          ],
          "name": "stdout"
        }
      ]
    },
    {
      "cell_type": "code",
      "metadata": {
        "id": "mmcEjdulE_4V",
        "colab": {
          "base_uri": "https://localhost:8080/",
          "height": 90
        },
        "outputId": "fcfa913a-0f47-4cc5-c83e-be351f53cac2"
      },
      "source": [
        "print('Avg Training Accuracy: {:.2f}'.format(np.mean(history10.history['accuracy'])))\n",
        "print('Avg Validation Accuracy: {:.2f}'.format(np.mean(history10.history['val_accuracy'])))\n",
        "print('Avg Training Loss: {:.2f}'.format(np.mean(history10.history['loss'])))\n",
        "print('Avg Validation Loss: {:.2f}'.format(np.mean(history10.history['val_loss']))) ##performance metrics"
      ],
      "execution_count": null,
      "outputs": [
        {
          "output_type": "stream",
          "text": [
            "Avg Training Accuracy: 0.54\n",
            "Avg Validation Accuracy: 0.53\n",
            "Avg Training Loss: 1.63\n",
            "Avg Validation Loss: 1.84\n"
          ],
          "name": "stdout"
        }
      ]
    },
    {
      "cell_type": "code",
      "metadata": {
        "id": "yDmH9QA9FAFP",
        "colab": {
          "base_uri": "https://localhost:8080/",
          "height": 297
        },
        "outputId": "6c95ad9e-6a38-4075-c097-88ca8611f04f"
      },
      "source": [
        "plt.plot(history10.history['loss'], label='train loss')\n",
        "plt.plot(history10.history['val_loss'], label='val loss')\n",
        "plt.xlabel(\"Epochs\")\n",
        "plt.ylabel(\"Loss\")\n",
        "plt.plot()\n",
        "plt.legend()\n",
        "plt.show() ##plotting loss function\n",
        "plt.savefig('LossVal_loss')"
      ],
      "execution_count": null,
      "outputs": [
        {
          "output_type": "display_data",
          "data": {
            "image/png": "[encoded data removed]",
            "text/plain": [
              "<Figure size 432x288 with 1 Axes>"
            ]
          },
          "metadata": {
            "tags": [],
            "needs_background": "light"
          }
        },
        {
          "output_type": "display_data",
          "data": {
            "text/plain": [
              "<Figure size 432x288 with 0 Axes>"
            ]
          },
          "metadata": {
            "tags": []
          }
        }
      ]
    },
    {
      "cell_type": "code",
      "metadata": {
        "id": "w7nU8FbmFAQ4",
        "colab": {
          "base_uri": "https://localhost:8080/",
          "height": 301
        },
        "outputId": "4dd876a7-ef9c-4e2c-ead2-7d53d41706a7"
      },
      "source": [
        "plt.plot(history10.history['accuracy'], label='train acc')\n",
        "plt.plot(history10.history['val_accuracy'], label='val acc')\n",
        "plt.xlabel(\"Epochs\")\n",
        "plt.ylabel(\"Accuracy\")\n",
        "plt.legend()\n",
        "plt.show() ##plotting accuracy\n",
        "plt.savefig('AccVal_acc')"
      ],
      "execution_count": null,
      "outputs": [
        {
          "output_type": "display_data",
          "data": {
            "image/png": "[encoded data removed]",
            "text/plain": [
              "<Figure size 432x288 with 1 Axes>"
            ]
          },
          "metadata": {
            "tags": [],
            "needs_background": "light"
          }
        },
        {
          "output_type": "display_data",
          "data": {
            "text/plain": [
              "<Figure size 432x288 with 0 Axes>"
            ]
          },
          "metadata": {
            "tags": []
          }
        }
      ]
    },
    {
      "cell_type": "markdown",
      "metadata": {
        "id": "bKyxnBR6FbBs"
      },
      "source": [
        "Model 11 Optimizer 'Adadelta', Learning rate '0.005'"
      ]
    },
    {
      "cell_type": "code",
      "metadata": {
        "id": "DXEsC0pxFAoH"
      },
      "source": [
        "model11 = Sequential()\n",
        "for layer in vgg_model.layers[:-1]:\n",
        "    model11.add(layer) ##loading all the layers of the pre-trained model to the sequential model"
      ],
      "execution_count": null,
      "outputs": []
    },
    {
      "cell_type": "code",
      "metadata": {
        "id": "Huk_YEM7Fhg4"
      },
      "source": [
        "for layer in model11.layers:\n",
        "    layer.trainable = False ##freezing all the layers to retain weights"
      ],
      "execution_count": null,
      "outputs": []
    },
    {
      "cell_type": "code",
      "metadata": {
        "id": "qLJiRsrNFhtH"
      },
      "source": [
        "model11.add(Dense(2, activation='softmax', kernel_initializer=initializers.RandomNormal(stddev=0.1, seed=0), bias_initializer=initializers.Zeros())) ##adding a fully connected dense layer with softmax activation"
      ],
      "execution_count": null,
      "outputs": []
    },
    {
      "cell_type": "code",
      "metadata": {
        "id": "-Sukn9_cFh5c"
      },
      "source": [
        "opt = keras.optimizers.Adadelta(learning_rate=0.005)\n",
        "model11.compile(\n",
        "  loss='binary_crossentropy',\n",
        "  optimizer= opt,\n",
        "  metrics=['accuracy'] \n",
        ") ##Adadelta optimizer with learning rate 0.005"
      ],
      "execution_count": null,
      "outputs": []
    },
    {
      "cell_type": "code",
      "metadata": {
        "id": "YZ903PF_FiEp",
        "colab": {
          "base_uri": "https://localhost:8080/",
          "height": 935
        },
        "outputId": "5c7a7b86-09ef-47e7-c927-0b060e83a9a2"
      },
      "source": [
        "history11 = model11.fit_generator(training_set,\n",
        "                        epochs = 25,\n",
        "                        validation_data=val_set,\n",
        "                        shuffle = True) ##training and validation"
      ],
      "execution_count": null,
      "outputs": [
        {
          "output_type": "stream",
          "text": [
            "Epoch 1/25\n",
            "15/15 [==============================] - 4s 294ms/step - loss: 2.0107 - accuracy: 0.4795 - val_loss: 2.2800 - val_accuracy: 0.4688\n",
            "Epoch 2/25\n",
            "15/15 [==============================] - 4s 271ms/step - loss: 1.9877 - accuracy: 0.4838 - val_loss: 2.2580 - val_accuracy: 0.4688\n",
            "Epoch 3/25\n",
            "15/15 [==============================] - 4s 272ms/step - loss: 1.9657 - accuracy: 0.4903 - val_loss: 2.2373 - val_accuracy: 0.4844\n",
            "Epoch 4/25\n",
            "15/15 [==============================] - 4s 269ms/step - loss: 1.9452 - accuracy: 0.4924 - val_loss: 2.2149 - val_accuracy: 0.4844\n",
            "Epoch 5/25\n",
            "15/15 [==============================] - 4s 268ms/step - loss: 1.9243 - accuracy: 0.4924 - val_loss: 2.1915 - val_accuracy: 0.4844\n",
            "Epoch 6/25\n",
            "15/15 [==============================] - 4s 271ms/step - loss: 1.9036 - accuracy: 0.4946 - val_loss: 2.1687 - val_accuracy: 0.4844\n",
            "Epoch 7/25\n",
            "15/15 [==============================] - 4s 275ms/step - loss: 1.8833 - accuracy: 0.4946 - val_loss: 2.1468 - val_accuracy: 0.4844\n",
            "Epoch 8/25\n",
            "15/15 [==============================] - 4s 272ms/step - loss: 1.8639 - accuracy: 0.4989 - val_loss: 2.1248 - val_accuracy: 0.5000\n",
            "Epoch 9/25\n",
            "15/15 [==============================] - 4s 275ms/step - loss: 1.8448 - accuracy: 0.5011 - val_loss: 2.1024 - val_accuracy: 0.5000\n",
            "Epoch 10/25\n",
            "15/15 [==============================] - 4s 269ms/step - loss: 1.8257 - accuracy: 0.5032 - val_loss: 2.0813 - val_accuracy: 0.5000\n",
            "Epoch 11/25\n",
            "15/15 [==============================] - 4s 270ms/step - loss: 1.8072 - accuracy: 0.5076 - val_loss: 2.0616 - val_accuracy: 0.5000\n",
            "Epoch 12/25\n",
            "15/15 [==============================] - 4s 272ms/step - loss: 1.7891 - accuracy: 0.5162 - val_loss: 2.0382 - val_accuracy: 0.5156\n",
            "Epoch 13/25\n",
            "15/15 [==============================] - 4s 271ms/step - loss: 1.7709 - accuracy: 0.5140 - val_loss: 2.0178 - val_accuracy: 0.5156\n",
            "Epoch 14/25\n",
            "15/15 [==============================] - 4s 270ms/step - loss: 1.7538 - accuracy: 0.5205 - val_loss: 1.9964 - val_accuracy: 0.5156\n",
            "Epoch 15/25\n",
            "15/15 [==============================] - 4s 271ms/step - loss: 1.7363 - accuracy: 0.5227 - val_loss: 1.9752 - val_accuracy: 0.5156\n",
            "Epoch 16/25\n",
            "15/15 [==============================] - 4s 270ms/step - loss: 1.7182 - accuracy: 0.5205 - val_loss: 1.9520 - val_accuracy: 0.5156\n",
            "Epoch 17/25\n",
            "15/15 [==============================] - 4s 270ms/step - loss: 1.7013 - accuracy: 0.5270 - val_loss: 1.9316 - val_accuracy: 0.5156\n",
            "Epoch 18/25\n",
            "15/15 [==============================] - 4s 272ms/step - loss: 1.6847 - accuracy: 0.5248 - val_loss: 1.9127 - val_accuracy: 0.5156\n",
            "Epoch 19/25\n",
            "15/15 [==============================] - 4s 281ms/step - loss: 1.6680 - accuracy: 0.5292 - val_loss: 1.8907 - val_accuracy: 0.5156\n",
            "Epoch 20/25\n",
            "15/15 [==============================] - 4s 270ms/step - loss: 1.6516 - accuracy: 0.5335 - val_loss: 1.8688 - val_accuracy: 0.5156\n",
            "Epoch 21/25\n",
            "15/15 [==============================] - 4s 268ms/step - loss: 1.6364 - accuracy: 0.5313 - val_loss: 1.8506 - val_accuracy: 0.5156\n",
            "Epoch 22/25\n",
            "15/15 [==============================] - 4s 271ms/step - loss: 1.6196 - accuracy: 0.5356 - val_loss: 1.8317 - val_accuracy: 0.5156\n",
            "Epoch 23/25\n",
            "15/15 [==============================] - 4s 274ms/step - loss: 1.6044 - accuracy: 0.5356 - val_loss: 1.8145 - val_accuracy: 0.5156\n",
            "Epoch 24/25\n",
            "15/15 [==============================] - 4s 270ms/step - loss: 1.5894 - accuracy: 0.5356 - val_loss: 1.7972 - val_accuracy: 0.5469\n",
            "Epoch 25/25\n",
            "15/15 [==============================] - 4s 273ms/step - loss: 1.5746 - accuracy: 0.5443 - val_loss: 1.7777 - val_accuracy: 0.5469\n"
          ],
          "name": "stdout"
        }
      ]
    },
    {
      "cell_type": "code",
      "metadata": {
        "id": "TZKpOYzaFiP4",
        "colab": {
          "base_uri": "https://localhost:8080/",
          "height": 90
        },
        "outputId": "33e7d441-ac18-4aca-a2f4-29729fdf7710"
      },
      "source": [
        "print('Avg Training Accuracy: {:.2f}'.format(np.mean(history11.history['accuracy'])))\n",
        "print('Avg Validation Accuracy: {:.2f}'.format(np.mean(history11.history['val_accuracy'])))\n",
        "print('Avg Training Loss: {:.2f}'.format(np.mean(history11.history['loss'])))\n",
        "print('Avg Validation Loss: {:.2f}'.format(np.mean(history11.history['val_loss']))) ##performance metrics"
      ],
      "execution_count": null,
      "outputs": [
        {
          "output_type": "stream",
          "text": [
            "Avg Training Accuracy: 0.51\n",
            "Avg Validation Accuracy: 0.51\n",
            "Avg Training Loss: 1.78\n",
            "Avg Validation Loss: 2.02\n"
          ],
          "name": "stdout"
        }
      ]
    },
    {
      "cell_type": "code",
      "metadata": {
        "id": "XcclmuSCFiaW",
        "colab": {
          "base_uri": "https://localhost:8080/",
          "height": 297
        },
        "outputId": "0adcfdad-01a8-4f2b-94e7-8de97d845e34"
      },
      "source": [
        "plt.plot(history11.history['loss'], label='train loss')\n",
        "plt.plot(history11.history['val_loss'], label='val loss')\n",
        "plt.xlabel(\"Epochs\")\n",
        "plt.ylabel(\"Loss\")\n",
        "plt.plot()\n",
        "plt.legend()\n",
        "plt.show() ##plotting loss functions\n",
        "plt.savefig('LossVal_loss')"
      ],
      "execution_count": null,
      "outputs": [
        {
          "output_type": "display_data",
          "data": {
            "image/png": "[encoded data removed]",
            "text/plain": [
              "<Figure size 432x288 with 1 Axes>"
            ]
          },
          "metadata": {
            "tags": [],
            "needs_background": "light"
          }
        },
        {
          "output_type": "display_data",
          "data": {
            "text/plain": [
              "<Figure size 432x288 with 0 Axes>"
            ]
          },
          "metadata": {
            "tags": []
          }
        }
      ]
    },
    {
      "cell_type": "code",
      "metadata": {
        "id": "EPnbq9pMFij6",
        "colab": {
          "base_uri": "https://localhost:8080/",
          "height": 299
        },
        "outputId": "4ca73806-0e29-4e69-929d-3f52c9b9f666"
      },
      "source": [
        "plt.plot(history11.history['accuracy'], label='train acc')\n",
        "plt.plot(history11.history['val_accuracy'], label='val acc')\n",
        "plt.xlabel(\"Epochs\")\n",
        "plt.ylabel(\"Accuracy\")\n",
        "plt.legend()\n",
        "plt.show() ##plotting accuracy\n",
        "plt.savefig('AccVal_acc')"
      ],
      "execution_count": null,
      "outputs": [
        {
          "output_type": "display_data",
          "data": {
            "image/png": "[encoded data removed]",
            "text/plain": [
              "<Figure size 432x288 with 1 Axes>"
            ]
          },
          "metadata": {
            "tags": [],
            "needs_background": "light"
          }
        },
        {
          "output_type": "display_data",
          "data": {
            "text/plain": [
              "<Figure size 432x288 with 0 Axes>"
            ]
          },
          "metadata": {
            "tags": []
          }
        }
      ]
    },
    {
      "cell_type": "markdown",
      "metadata": {
        "id": "ixkGZInNGCwU"
      },
      "source": [
        "Model 12 Optimizer 'Adadelta', Learning rate '0.001'"
      ]
    },
    {
      "cell_type": "code",
      "metadata": {
        "id": "vEzv74nbFA0C"
      },
      "source": [
        "model12 = Sequential()\n",
        "for layer in vgg_model.layers[:-1]:\n",
        "    model12.add(layer) ##adding all the layers from the pre-trained model to the sequential model"
      ],
      "execution_count": null,
      "outputs": []
    },
    {
      "cell_type": "code",
      "metadata": {
        "id": "qeqr7LLeCASp"
      },
      "source": [
        "for layer in model12.layers:\n",
        "    layer.trainable = False ##freezing all the layers to retain weights"
      ],
      "execution_count": null,
      "outputs": []
    },
    {
      "cell_type": "code",
      "metadata": {
        "id": "FbKOROC2CAda"
      },
      "source": [
        "model12.add(Dense(2, activation='softmax', kernel_initializer=initializers.RandomNormal(stddev=0.1, seed=0), bias_initializer=initializers.Zeros())) ##adding a fully connected dense layer with softmax activation"
      ],
      "execution_count": null,
      "outputs": []
    },
    {
      "cell_type": "code",
      "metadata": {
        "id": "vnJJP5QOCAn7"
      },
      "source": [
        "opt = keras.optimizers.Adadelta(learning_rate=0.001)\n",
        "model12.compile(\n",
        "  loss='binary_crossentropy',\n",
        "  optimizer= opt,\n",
        "  metrics=['accuracy'] \n",
        ") ##adadelta with learning rate 0.001"
      ],
      "execution_count": null,
      "outputs": []
    },
    {
      "cell_type": "code",
      "metadata": {
        "id": "p7uS4ThWHNK7",
        "colab": {
          "base_uri": "https://localhost:8080/",
          "height": 935
        },
        "outputId": "6afdd82d-76ed-4b20-ec11-b192a6c7002c"
      },
      "source": [
        "history12 = model12.fit_generator(training_set,\n",
        "                        epochs = 25,\n",
        "                        validation_data=val_set,\n",
        "                        shuffle = True) ##training and validation"
      ],
      "execution_count": null,
      "outputs": [
        {
          "output_type": "stream",
          "text": [
            "Epoch 1/25\n",
            "15/15 [==============================] - 4s 297ms/step - loss: 2.0191 - accuracy: 0.4773 - val_loss: 2.2962 - val_accuracy: 0.4688\n",
            "Epoch 2/25\n",
            "15/15 [==============================] - 4s 272ms/step - loss: 2.0147 - accuracy: 0.4773 - val_loss: 2.2929 - val_accuracy: 0.4688\n",
            "Epoch 3/25\n",
            "15/15 [==============================] - 4s 269ms/step - loss: 2.0101 - accuracy: 0.4773 - val_loss: 2.2889 - val_accuracy: 0.4688\n",
            "Epoch 4/25\n",
            "15/15 [==============================] - 4s 270ms/step - loss: 2.0058 - accuracy: 0.4773 - val_loss: 2.2848 - val_accuracy: 0.4688\n",
            "Epoch 5/25\n",
            "15/15 [==============================] - 4s 271ms/step - loss: 2.0015 - accuracy: 0.4773 - val_loss: 2.2813 - val_accuracy: 0.4688\n",
            "Epoch 6/25\n",
            "15/15 [==============================] - 4s 271ms/step - loss: 1.9972 - accuracy: 0.4838 - val_loss: 2.2773 - val_accuracy: 0.4688\n",
            "Epoch 7/25\n",
            "15/15 [==============================] - 4s 269ms/step - loss: 1.9931 - accuracy: 0.4838 - val_loss: 2.2735 - val_accuracy: 0.4688\n",
            "Epoch 8/25\n",
            "15/15 [==============================] - 4s 270ms/step - loss: 1.9888 - accuracy: 0.4838 - val_loss: 2.2693 - val_accuracy: 0.4688\n",
            "Epoch 9/25\n",
            "15/15 [==============================] - 4s 270ms/step - loss: 1.9847 - accuracy: 0.4838 - val_loss: 2.2654 - val_accuracy: 0.4688\n",
            "Epoch 10/25\n",
            "15/15 [==============================] - 4s 271ms/step - loss: 1.9806 - accuracy: 0.4838 - val_loss: 2.2614 - val_accuracy: 0.4688\n",
            "Epoch 11/25\n",
            "15/15 [==============================] - 4s 273ms/step - loss: 1.9764 - accuracy: 0.4838 - val_loss: 2.2576 - val_accuracy: 0.4688\n",
            "Epoch 12/25\n",
            "15/15 [==============================] - 4s 269ms/step - loss: 1.9724 - accuracy: 0.4860 - val_loss: 2.2532 - val_accuracy: 0.4688\n",
            "Epoch 13/25\n",
            "15/15 [==============================] - 4s 272ms/step - loss: 1.9683 - accuracy: 0.4860 - val_loss: 2.2492 - val_accuracy: 0.4688\n",
            "Epoch 14/25\n",
            "15/15 [==============================] - 4s 283ms/step - loss: 1.9642 - accuracy: 0.4860 - val_loss: 2.2450 - val_accuracy: 0.4844\n",
            "Epoch 15/25\n",
            "15/15 [==============================] - 4s 271ms/step - loss: 1.9603 - accuracy: 0.4860 - val_loss: 2.2409 - val_accuracy: 0.4844\n",
            "Epoch 16/25\n",
            "15/15 [==============================] - 4s 273ms/step - loss: 1.9563 - accuracy: 0.4903 - val_loss: 2.2366 - val_accuracy: 0.4844\n",
            "Epoch 17/25\n",
            "15/15 [==============================] - 4s 271ms/step - loss: 1.9523 - accuracy: 0.4924 - val_loss: 2.2327 - val_accuracy: 0.4844\n",
            "Epoch 18/25\n",
            "15/15 [==============================] - 4s 275ms/step - loss: 1.9484 - accuracy: 0.4924 - val_loss: 2.2287 - val_accuracy: 0.4844\n",
            "Epoch 19/25\n",
            "15/15 [==============================] - 4s 271ms/step - loss: 1.9445 - accuracy: 0.4924 - val_loss: 2.2246 - val_accuracy: 0.4844\n",
            "Epoch 20/25\n",
            "15/15 [==============================] - 4s 272ms/step - loss: 1.9406 - accuracy: 0.4924 - val_loss: 2.2201 - val_accuracy: 0.4844\n",
            "Epoch 21/25\n",
            "15/15 [==============================] - 4s 270ms/step - loss: 1.9367 - accuracy: 0.4924 - val_loss: 2.2162 - val_accuracy: 0.4844\n",
            "Epoch 22/25\n",
            "15/15 [==============================] - 4s 268ms/step - loss: 1.9327 - accuracy: 0.4924 - val_loss: 2.2124 - val_accuracy: 0.4844\n",
            "Epoch 23/25\n",
            "15/15 [==============================] - 4s 269ms/step - loss: 1.9289 - accuracy: 0.4924 - val_loss: 2.2082 - val_accuracy: 0.4844\n",
            "Epoch 24/25\n",
            "15/15 [==============================] - 4s 269ms/step - loss: 1.9251 - accuracy: 0.4924 - val_loss: 2.2040 - val_accuracy: 0.4844\n",
            "Epoch 25/25\n",
            "15/15 [==============================] - 4s 268ms/step - loss: 1.9212 - accuracy: 0.4946 - val_loss: 2.1996 - val_accuracy: 0.4844\n"
          ],
          "name": "stdout"
        }
      ]
    },
    {
      "cell_type": "code",
      "metadata": {
        "id": "xV5RxnsMHNYh",
        "colab": {
          "base_uri": "https://localhost:8080/",
          "height": 90
        },
        "outputId": "4bc701c6-2688-4dc6-c78b-3a8f0124d121"
      },
      "source": [
        "print('Avg Training Accuracy: {:.2f}'.format(np.mean(history12.history['accuracy'])))\n",
        "print('Avg Validation Accuracy: {:.2f}'.format(np.mean(history12.history['val_accuracy'])))\n",
        "print('Avg Training Loss: {:.2f}'.format(np.mean(history12.history['loss'])))\n",
        "print('Avg Validation Loss: {:.2f}'.format(np.mean(history12.history['val_loss']))) ##performance metrics"
      ],
      "execution_count": null,
      "outputs": [
        {
          "output_type": "stream",
          "text": [
            "Avg Training Accuracy: 0.49\n",
            "Avg Validation Accuracy: 0.48\n",
            "Avg Training Loss: 1.97\n",
            "Avg Validation Loss: 2.25\n"
          ],
          "name": "stdout"
        }
      ]
    },
    {
      "cell_type": "code",
      "metadata": {
        "id": "uozyJ6v_HNlZ",
        "colab": {
          "base_uri": "https://localhost:8080/",
          "height": 297
        },
        "outputId": "61908cb3-c7dc-4b56-e3c3-27dce6b06807"
      },
      "source": [
        "plt.plot(history12.history['loss'], label='train loss')\n",
        "plt.plot(history12.history['val_loss'], label='val loss')\n",
        "plt.xlabel(\"Epochs\")\n",
        "plt.ylabel(\"Loss\")\n",
        "plt.plot()\n",
        "plt.legend()\n",
        "plt.show() ##plotting loss functions\n",
        "plt.savefig('LossVal_loss')"
      ],
      "execution_count": null,
      "outputs": [
        {
          "output_type": "display_data",
          "data": {
            "image/png": "[encoded data removed]",
            "text/plain": [
              "<Figure size 432x288 with 1 Axes>"
            ]
          },
          "metadata": {
            "tags": [],
            "needs_background": "light"
          }
        },
        {
          "output_type": "display_data",
          "data": {
            "text/plain": [
              "<Figure size 432x288 with 0 Axes>"
            ]
          },
          "metadata": {
            "tags": []
          }
        }
      ]
    },
    {
      "cell_type": "code",
      "metadata": {
        "id": "rcpzjpeoHNxL",
        "colab": {
          "base_uri": "https://localhost:8080/",
          "height": 297
        },
        "outputId": "88ce95e8-a924-4ccd-e4d6-12b4536e4e30"
      },
      "source": [
        "plt.plot(history12.history['accuracy'], label='train acc')\n",
        "plt.plot(history12.history['val_accuracy'], label='val acc')\n",
        "plt.xlabel(\"Epochs\")\n",
        "plt.ylabel(\"Accuracy\")\n",
        "plt.legend()\n",
        "plt.show() ##plotting accuracy\n",
        "plt.savefig('AccVal_acc')"
      ],
      "execution_count": null,
      "outputs": [
        {
          "output_type": "display_data",
          "data": {
            "image/png": "[encoded data removed]",
            "text/plain": [
              "<Figure size 432x288 with 1 Axes>"
            ]
          },
          "metadata": {
            "tags": [],
            "needs_background": "light"
          }
        },
        {
          "output_type": "display_data",
          "data": {
            "text/plain": [
              "<Figure size 432x288 with 0 Axes>"
            ]
          },
          "metadata": {
            "tags": []
          }
        }
      ]
    },
    {
      "cell_type": "markdown",
      "metadata": {
        "id": "bd6jHC0aHyv6"
      },
      "source": [
        "Model 13 Optimizer 'Adadelta', Learning rate '0.0005'"
      ]
    },
    {
      "cell_type": "code",
      "metadata": {
        "id": "Bnz20XG1HOF8"
      },
      "source": [
        "model13 = Sequential()\n",
        "for layer in vgg_model.layers[:-1]:\n",
        "    model13.add(layer) ##loading all the layers of the pre-trained model into the sequential model"
      ],
      "execution_count": null,
      "outputs": []
    },
    {
      "cell_type": "code",
      "metadata": {
        "id": "ImZs9VoZIJW_"
      },
      "source": [
        "for layer in model13.layers:\n",
        "    layer.trainable = False ##freezing all the layers to retain weights"
      ],
      "execution_count": null,
      "outputs": []
    },
    {
      "cell_type": "code",
      "metadata": {
        "id": "fwdUqMgUIJmF"
      },
      "source": [
        "model13.add(Dense(2, activation='softmax', kernel_initializer=initializers.RandomNormal(stddev=0.1, seed=0), bias_initializer=initializers.Zeros())) ##adding a fully connected dense layer with softmax activation"
      ],
      "execution_count": null,
      "outputs": []
    },
    {
      "cell_type": "code",
      "metadata": {
        "id": "uVerNYSkIJ2q"
      },
      "source": [
        "opt = keras.optimizers.Adadelta(learning_rate=0.0005)\n",
        "model13.compile(\n",
        "  loss='binary_crossentropy',\n",
        "  optimizer= opt,\n",
        "  metrics=['accuracy'] \n",
        ") ##Adadelta with learning rate 0.0005"
      ],
      "execution_count": null,
      "outputs": []
    },
    {
      "cell_type": "code",
      "metadata": {
        "id": "viZK46YyIKIs",
        "colab": {
          "base_uri": "https://localhost:8080/",
          "height": 935
        },
        "outputId": "9a387430-7cf9-4f1d-e95a-fa43de6c9394"
      },
      "source": [
        "history13 = model13.fit_generator(training_set,\n",
        "                        epochs = 25,\n",
        "                        validation_data=val_set,\n",
        "                        shuffle = True) ##training and validation"
      ],
      "execution_count": null,
      "outputs": [
        {
          "output_type": "stream",
          "text": [
            "Epoch 1/25\n",
            "15/15 [==============================] - 4s 295ms/step - loss: 2.0199 - accuracy: 0.4773 - val_loss: 2.2980 - val_accuracy: 0.4688\n",
            "Epoch 2/25\n",
            "15/15 [==============================] - 4s 269ms/step - loss: 2.0175 - accuracy: 0.4773 - val_loss: 2.2961 - val_accuracy: 0.4688\n",
            "Epoch 3/25\n",
            "15/15 [==============================] - 4s 267ms/step - loss: 2.0152 - accuracy: 0.4773 - val_loss: 2.2943 - val_accuracy: 0.4688\n",
            "Epoch 4/25\n",
            "15/15 [==============================] - 4s 269ms/step - loss: 2.0129 - accuracy: 0.4773 - val_loss: 2.2923 - val_accuracy: 0.4688\n",
            "Epoch 5/25\n",
            "15/15 [==============================] - 4s 287ms/step - loss: 2.0105 - accuracy: 0.4773 - val_loss: 2.2905 - val_accuracy: 0.4688\n",
            "Epoch 6/25\n",
            "15/15 [==============================] - 4s 281ms/step - loss: 2.0082 - accuracy: 0.4773 - val_loss: 2.2885 - val_accuracy: 0.4688\n",
            "Epoch 7/25\n",
            "15/15 [==============================] - 4s 279ms/step - loss: 2.0060 - accuracy: 0.4773 - val_loss: 2.2864 - val_accuracy: 0.4688\n",
            "Epoch 8/25\n",
            "15/15 [==============================] - 4s 272ms/step - loss: 2.0038 - accuracy: 0.4773 - val_loss: 2.2845 - val_accuracy: 0.4688\n",
            "Epoch 9/25\n",
            "15/15 [==============================] - 4s 268ms/step - loss: 2.0015 - accuracy: 0.4773 - val_loss: 2.2825 - val_accuracy: 0.4688\n",
            "Epoch 10/25\n",
            "15/15 [==============================] - 4s 268ms/step - loss: 1.9992 - accuracy: 0.4838 - val_loss: 2.2805 - val_accuracy: 0.4688\n",
            "Epoch 11/25\n",
            "15/15 [==============================] - 4s 269ms/step - loss: 1.9970 - accuracy: 0.4838 - val_loss: 2.2785 - val_accuracy: 0.4688\n",
            "Epoch 12/25\n",
            "15/15 [==============================] - 4s 273ms/step - loss: 1.9947 - accuracy: 0.4838 - val_loss: 2.2764 - val_accuracy: 0.4688\n",
            "Epoch 13/25\n",
            "15/15 [==============================] - 4s 268ms/step - loss: 1.9926 - accuracy: 0.4838 - val_loss: 2.2743 - val_accuracy: 0.4688\n",
            "Epoch 14/25\n",
            "15/15 [==============================] - 4s 268ms/step - loss: 1.9904 - accuracy: 0.4838 - val_loss: 2.2722 - val_accuracy: 0.4688\n",
            "Epoch 15/25\n",
            "15/15 [==============================] - 4s 270ms/step - loss: 1.9882 - accuracy: 0.4838 - val_loss: 2.2702 - val_accuracy: 0.4688\n",
            "Epoch 16/25\n",
            "15/15 [==============================] - 4s 269ms/step - loss: 1.9861 - accuracy: 0.4838 - val_loss: 2.2681 - val_accuracy: 0.4688\n",
            "Epoch 17/25\n",
            "15/15 [==============================] - 4s 269ms/step - loss: 1.9839 - accuracy: 0.4838 - val_loss: 2.2659 - val_accuracy: 0.4688\n",
            "Epoch 18/25\n",
            "15/15 [==============================] - 4s 272ms/step - loss: 1.9818 - accuracy: 0.4838 - val_loss: 2.2639 - val_accuracy: 0.4688\n",
            "Epoch 19/25\n",
            "15/15 [==============================] - 4s 286ms/step - loss: 1.9796 - accuracy: 0.4838 - val_loss: 2.2617 - val_accuracy: 0.4688\n",
            "Epoch 20/25\n",
            "15/15 [==============================] - 4s 267ms/step - loss: 1.9775 - accuracy: 0.4838 - val_loss: 2.2595 - val_accuracy: 0.4688\n",
            "Epoch 21/25\n",
            "15/15 [==============================] - 4s 268ms/step - loss: 1.9754 - accuracy: 0.4838 - val_loss: 2.2575 - val_accuracy: 0.4688\n",
            "Epoch 22/25\n",
            "15/15 [==============================] - 4s 272ms/step - loss: 1.9733 - accuracy: 0.4860 - val_loss: 2.2556 - val_accuracy: 0.4688\n",
            "Epoch 23/25\n",
            "15/15 [==============================] - 4s 269ms/step - loss: 1.9713 - accuracy: 0.4860 - val_loss: 2.2532 - val_accuracy: 0.4688\n",
            "Epoch 24/25\n",
            "15/15 [==============================] - 4s 267ms/step - loss: 1.9692 - accuracy: 0.4860 - val_loss: 2.2511 - val_accuracy: 0.4688\n",
            "Epoch 25/25\n",
            "15/15 [==============================] - 4s 280ms/step - loss: 1.9672 - accuracy: 0.4860 - val_loss: 2.2489 - val_accuracy: 0.4688\n"
          ],
          "name": "stdout"
        }
      ]
    },
    {
      "cell_type": "code",
      "metadata": {
        "id": "813h5WHZIKVm",
        "colab": {
          "base_uri": "https://localhost:8080/",
          "height": 90
        },
        "outputId": "25e88ef4-b576-447f-d5b1-ba58375434f5"
      },
      "source": [
        "print('Avg Training Accuracy: {:.2f}'.format(np.mean(history13.history['accuracy'])))\n",
        "print('Avg Validation Accuracy: {:.2f}'.format(np.mean(history13.history['val_accuracy'])))\n",
        "print('Avg Training Loss: {:.2f}'.format(np.mean(history13.history['loss'])))\n",
        "print('Avg Validation Loss: {:.2f}'.format(np.mean(history13.history['val_loss']))) ##performance metrics"
      ],
      "execution_count": null,
      "outputs": [
        {
          "output_type": "stream",
          "text": [
            "Avg Training Accuracy: 0.48\n",
            "Avg Validation Accuracy: 0.47\n",
            "Avg Training Loss: 1.99\n",
            "Avg Validation Loss: 2.27\n"
          ],
          "name": "stdout"
        }
      ]
    },
    {
      "cell_type": "code",
      "metadata": {
        "id": "ZO39AE9vHOPz",
        "colab": {
          "base_uri": "https://localhost:8080/",
          "height": 297
        },
        "outputId": "2041d915-567a-4ffa-cd9a-d512ad1d51c6"
      },
      "source": [
        "plt.plot(history13.history['loss'], label='train loss')\n",
        "plt.plot(history13.history['val_loss'], label='val loss')\n",
        "plt.xlabel(\"Epochs\")\n",
        "plt.ylabel(\"Loss\")\n",
        "plt.plot()\n",
        "plt.legend()\n",
        "plt.show() ##plotting loss function\n",
        "plt.savefig('LossVal_loss')"
      ],
      "execution_count": null,
      "outputs": [
        {
          "output_type": "display_data",
          "data": {
            "image/png": "[encoded data removed]",
            "text/plain": [
              "<Figure size 432x288 with 1 Axes>"
            ]
          },
          "metadata": {
            "tags": [],
            "needs_background": "light"
          }
        },
        {
          "output_type": "display_data",
          "data": {
            "text/plain": [
              "<Figure size 432x288 with 0 Axes>"
            ]
          },
          "metadata": {
            "tags": []
          }
        }
      ]
    },
    {
      "cell_type": "code",
      "metadata": {
        "id": "ToTej1NEHObG",
        "colab": {
          "base_uri": "https://localhost:8080/",
          "height": 297
        },
        "outputId": "49e9b7c2-a4a6-41b4-9106-30227b5f4cce"
      },
      "source": [
        "plt.plot(history13.history['accuracy'], label='train acc')\n",
        "plt.plot(history13.history['val_accuracy'], label='val acc')\n",
        "plt.xlabel(\"Epochs\")\n",
        "plt.ylabel(\"Accuracy\")\n",
        "plt.legend()\n",
        "plt.show() ##plotting accuracy\n",
        "plt.savefig('AccVal_acc')"
      ],
      "execution_count": null,
      "outputs": [
        {
          "output_type": "display_data",
          "data": {
            "image/png": "[encoded data removed]",
            "text/plain": [
              "<Figure size 432x288 with 1 Axes>"
            ]
          },
          "metadata": {
            "tags": [],
            "needs_background": "light"
          }
        },
        {
          "output_type": "display_data",
          "data": {
            "text/plain": [
              "<Figure size 432x288 with 0 Axes>"
            ]
          },
          "metadata": {
            "tags": []
          }
        }
      ]
    },
    {
      "cell_type": "markdown",
      "metadata": {
        "id": "awAPdf68Jr_x"
      },
      "source": [
        "Model 14 Optimizer 'Adadelta', Learning rate '0.0001'"
      ]
    },
    {
      "cell_type": "code",
      "metadata": {
        "id": "VZZTPIHaHOwv"
      },
      "source": [
        "model14 = Sequential()\n",
        "for layer in vgg_model.layers[:-1]:\n",
        "    model14.add(layer) ##loading all the layers of the pre-trained model into the sequential model"
      ],
      "execution_count": null,
      "outputs": []
    },
    {
      "cell_type": "code",
      "metadata": {
        "id": "r2mWnb24JvL2"
      },
      "source": [
        "for layer in model14.layers:\n",
        "    layer.trainable = False ##freezing all the layers to retain the weights"
      ],
      "execution_count": null,
      "outputs": []
    },
    {
      "cell_type": "code",
      "metadata": {
        "id": "L5V_5UW5Jvb-"
      },
      "source": [
        "model14.add(Dense(2, activation='softmax', kernel_initializer=initializers.RandomNormal(stddev=0.1, seed=0), bias_initializer=initializers.Zeros())) ##adding a fully connected dense layer with softmax activation"
      ],
      "execution_count": null,
      "outputs": []
    },
    {
      "cell_type": "code",
      "metadata": {
        "id": "Ama9NrJLJvnJ"
      },
      "source": [
        "opt = keras.optimizers.Adadelta(learning_rate=0.0001)\n",
        "model14.compile(\n",
        "  loss='binary_crossentropy',\n",
        "  optimizer= opt,\n",
        "  metrics=['accuracy']  \n",
        ") ##Adadelta with learning rate 0.0001"
      ],
      "execution_count": null,
      "outputs": []
    },
    {
      "cell_type": "code",
      "metadata": {
        "id": "wKbT_iKlJvyp",
        "colab": {
          "base_uri": "https://localhost:8080/",
          "height": 935
        },
        "outputId": "486638f8-70e0-463d-fb52-e1e53d74a362"
      },
      "source": [
        "history14 = model14.fit_generator(training_set,\n",
        "                        epochs = 25,\n",
        "                        validation_data=val_set,\n",
        "                        shuffle = True) ##training and validation"
      ],
      "execution_count": null,
      "outputs": [
        {
          "output_type": "stream",
          "text": [
            "Epoch 1/25\n",
            "15/15 [==============================] - 4s 293ms/step - loss: 2.0207 - accuracy: 0.4773 - val_loss: 2.2996 - val_accuracy: 0.4688\n",
            "Epoch 2/25\n",
            "15/15 [==============================] - 4s 267ms/step - loss: 2.0203 - accuracy: 0.4773 - val_loss: 2.2992 - val_accuracy: 0.4688\n",
            "Epoch 3/25\n",
            "15/15 [==============================] - 4s 271ms/step - loss: 2.0198 - accuracy: 0.4773 - val_loss: 2.2987 - val_accuracy: 0.4688\n",
            "Epoch 4/25\n",
            "15/15 [==============================] - 4s 271ms/step - loss: 2.0193 - accuracy: 0.4773 - val_loss: 2.2982 - val_accuracy: 0.4688\n",
            "Epoch 5/25\n",
            "15/15 [==============================] - 4s 275ms/step - loss: 2.0189 - accuracy: 0.4773 - val_loss: 2.2978 - val_accuracy: 0.4688\n",
            "Epoch 6/25\n",
            "15/15 [==============================] - 4s 270ms/step - loss: 2.0185 - accuracy: 0.4773 - val_loss: 2.2973 - val_accuracy: 0.4688\n",
            "Epoch 7/25\n",
            "15/15 [==============================] - 4s 271ms/step - loss: 2.0180 - accuracy: 0.4773 - val_loss: 2.2968 - val_accuracy: 0.4688\n",
            "Epoch 8/25\n",
            "15/15 [==============================] - 4s 283ms/step - loss: 2.0176 - accuracy: 0.4773 - val_loss: 2.2964 - val_accuracy: 0.4688\n",
            "Epoch 9/25\n",
            "15/15 [==============================] - 4s 281ms/step - loss: 2.0172 - accuracy: 0.4773 - val_loss: 2.2960 - val_accuracy: 0.4688\n",
            "Epoch 10/25\n",
            "15/15 [==============================] - 4s 269ms/step - loss: 2.0167 - accuracy: 0.4773 - val_loss: 2.2955 - val_accuracy: 0.4688\n",
            "Epoch 11/25\n",
            "15/15 [==============================] - 4s 270ms/step - loss: 2.0163 - accuracy: 0.4773 - val_loss: 2.2950 - val_accuracy: 0.4688\n",
            "Epoch 12/25\n",
            "15/15 [==============================] - 4s 269ms/step - loss: 2.0159 - accuracy: 0.4773 - val_loss: 2.2946 - val_accuracy: 0.4688\n",
            "Epoch 13/25\n",
            "15/15 [==============================] - 4s 272ms/step - loss: 2.0154 - accuracy: 0.4773 - val_loss: 2.2942 - val_accuracy: 0.4688\n",
            "Epoch 14/25\n",
            "15/15 [==============================] - 4s 271ms/step - loss: 2.0150 - accuracy: 0.4773 - val_loss: 2.2937 - val_accuracy: 0.4688\n",
            "Epoch 15/25\n",
            "15/15 [==============================] - 4s 270ms/step - loss: 2.0146 - accuracy: 0.4773 - val_loss: 2.2933 - val_accuracy: 0.4688\n",
            "Epoch 16/25\n",
            "15/15 [==============================] - 4s 269ms/step - loss: 2.0142 - accuracy: 0.4773 - val_loss: 2.2928 - val_accuracy: 0.4688\n",
            "Epoch 17/25\n",
            "15/15 [==============================] - 4s 274ms/step - loss: 2.0137 - accuracy: 0.4773 - val_loss: 2.2924 - val_accuracy: 0.4688\n",
            "Epoch 18/25\n",
            "15/15 [==============================] - 4s 270ms/step - loss: 2.0133 - accuracy: 0.4773 - val_loss: 2.2920 - val_accuracy: 0.4688\n",
            "Epoch 19/25\n",
            "15/15 [==============================] - 4s 267ms/step - loss: 2.0129 - accuracy: 0.4773 - val_loss: 2.2916 - val_accuracy: 0.4688\n",
            "Epoch 20/25\n",
            "15/15 [==============================] - 4s 269ms/step - loss: 2.0124 - accuracy: 0.4773 - val_loss: 2.2912 - val_accuracy: 0.4688\n",
            "Epoch 21/25\n",
            "15/15 [==============================] - 4s 266ms/step - loss: 2.0121 - accuracy: 0.4773 - val_loss: 2.2908 - val_accuracy: 0.4688\n",
            "Epoch 22/25\n",
            "15/15 [==============================] - 4s 272ms/step - loss: 2.0116 - accuracy: 0.4773 - val_loss: 2.2903 - val_accuracy: 0.4688\n",
            "Epoch 23/25\n",
            "15/15 [==============================] - 4s 271ms/step - loss: 2.0112 - accuracy: 0.4773 - val_loss: 2.2899 - val_accuracy: 0.4688\n",
            "Epoch 24/25\n",
            "15/15 [==============================] - 4s 270ms/step - loss: 2.0108 - accuracy: 0.4773 - val_loss: 2.2895 - val_accuracy: 0.4688\n",
            "Epoch 25/25\n",
            "15/15 [==============================] - 4s 270ms/step - loss: 2.0104 - accuracy: 0.4773 - val_loss: 2.2891 - val_accuracy: 0.4688\n"
          ],
          "name": "stdout"
        }
      ]
    },
    {
      "cell_type": "code",
      "metadata": {
        "id": "9P6lanAKJv-H",
        "colab": {
          "base_uri": "https://localhost:8080/",
          "height": 90
        },
        "outputId": "7d5c4bc7-728d-48bd-80a0-8d1ab4654165"
      },
      "source": [
        "print('Avg Training Accuracy: {:.2f}'.format(np.mean(history14.history['accuracy'])))\n",
        "print('Avg Validation Accuracy: {:.2f}'.format(np.mean(history14.history['val_accuracy'])))\n",
        "print('Avg Training Loss: {:.2f}'.format(np.mean(history14.history['loss'])))\n",
        "print('Avg Validation Loss: {:.2f}'.format(np.mean(history14.history['val_loss']))) ##performance metrics"
      ],
      "execution_count": null,
      "outputs": [
        {
          "output_type": "stream",
          "text": [
            "Avg Training Accuracy: 0.48\n",
            "Avg Validation Accuracy: 0.47\n",
            "Avg Training Loss: 2.02\n",
            "Avg Validation Loss: 2.29\n"
          ],
          "name": "stdout"
        }
      ]
    },
    {
      "cell_type": "code",
      "metadata": {
        "id": "6B2RUUv-JwIq",
        "colab": {
          "base_uri": "https://localhost:8080/",
          "height": 297
        },
        "outputId": "d194e165-711f-4a15-e2e6-1e4ad0db92b0"
      },
      "source": [
        "plt.plot(history14.history['loss'], label='train loss')\n",
        "plt.plot(history14.history['val_loss'], label='val loss')\n",
        "plt.xlabel(\"Epochs\")\n",
        "plt.ylabel(\"Loss\")\n",
        "plt.plot()\n",
        "plt.legend()\n",
        "plt.show() ##plotting loss function\n",
        "plt.savefig('LossVal_loss')"
      ],
      "execution_count": null,
      "outputs": [
        {
          "output_type": "display_data",
          "data": {
            "image/png": "[encoded data removed]",
            "text/plain": [
              "<Figure size 432x288 with 1 Axes>"
            ]
          },
          "metadata": {
            "tags": [],
            "needs_background": "light"
          }
        },
        {
          "output_type": "display_data",
          "data": {
            "text/plain": [
              "<Figure size 432x288 with 0 Axes>"
            ]
          },
          "metadata": {
            "tags": []
          }
        }
      ]
    },
    {
      "cell_type": "code",
      "metadata": {
        "id": "fD9rApbGJwRz",
        "colab": {
          "base_uri": "https://localhost:8080/",
          "height": 297
        },
        "outputId": "2ab6fce4-abc9-472a-f5e2-0b8ef76c7802"
      },
      "source": [
        "plt.plot(history14.history['accuracy'], label='train acc')\n",
        "plt.plot(history14.history['val_accuracy'], label='val acc')\n",
        "plt.xlabel(\"Epochs\")\n",
        "plt.ylabel(\"Accuracy\")\n",
        "plt.legend()\n",
        "plt.show() ##plotting accuracy\n",
        "plt.savefig('AccVal_acc')"
      ],
      "execution_count": null,
      "outputs": [
        {
          "output_type": "display_data",
          "data": {
            "image/png": "[encoded data removed]",
            "text/plain": [
              "<Figure size 432x288 with 1 Axes>"
            ]
          },
          "metadata": {
            "tags": [],
            "needs_background": "light"
          }
        },
        {
          "output_type": "display_data",
          "data": {
            "text/plain": [
              "<Figure size 432x288 with 0 Axes>"
            ]
          },
          "metadata": {
            "tags": []
          }
        }
      ]
    },
    {
      "cell_type": "code",
      "metadata": {
        "id": "kyBb5SjuJwjl"
      },
      "source": [
        ""
      ],
      "execution_count": null,
      "outputs": []
    },
    {
      "cell_type": "code",
      "metadata": {
        "id": "ezcCa7j3Jwz1"
      },
      "source": [
        ""
      ],
      "execution_count": null,
      "outputs": []
    },
    {
      "cell_type": "code",
      "metadata": {
        "id": "T6USLOZ9Jw9E"
      },
      "source": [
        ""
      ],
      "execution_count": null,
      "outputs": []
    },
    {
      "cell_type": "code",
      "metadata": {
        "id": "C0Sul_mwJxI4"
      },
      "source": [
        ""
      ],
      "execution_count": null,
      "outputs": []
    },
    {
      "cell_type": "code",
      "metadata": {
        "id": "bt2I8eHcJxS3"
      },
      "source": [
        ""
      ],
      "execution_count": null,
      "outputs": []
    },
    {
      "cell_type": "code",
      "metadata": {
        "id": "od2W4F9BJxc0"
      },
      "source": [
        ""
      ],
      "execution_count": null,
      "outputs": []
    },
    {
      "cell_type": "code",
      "metadata": {
        "id": "8Yp9rURqJxm-"
      },
      "source": [
        ""
      ],
      "execution_count": null,
      "outputs": []
    },
    {
      "cell_type": "code",
      "metadata": {
        "id": "lKbqriahJxxE"
      },
      "source": [
        ""
      ],
      "execution_count": null,
      "outputs": []
    },
    {
      "cell_type": "code",
      "metadata": {
        "id": "JCSc6lMDJx7M"
      },
      "source": [
        ""
      ],
      "execution_count": null,
      "outputs": []
    }
  ]
}